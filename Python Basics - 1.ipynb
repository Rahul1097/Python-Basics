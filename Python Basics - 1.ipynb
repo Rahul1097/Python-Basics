{
 "cells": [
  {
   "cell_type": "markdown",
   "metadata": {},
   "source": [
    "# Heading1\n",
    "## Heading2\n",
    "### Heading3\n",
    "#### Heading4\n",
    "##### Heading5\n",
    "###### Heading6"
   ]
  },
  {
   "cell_type": "code",
   "execution_count": 1,
   "metadata": {},
   "outputs": [],
   "source": [
    "#to execute a cell press play button or Shift+Enter\n",
    "#insert cell above- A\n",
    "#insert cell below - B\n",
    "#delete a cell - DD"
   ]
  },
  {
   "cell_type": "markdown",
   "metadata": {},
   "source": [
    "#insert an image\n",
    "![image](python.png)"
   ]
  },
  {
   "cell_type": "code",
   "execution_count": 2,
   "metadata": {},
   "outputs": [],
   "source": [
    "# Comment - describing a syntax, it is not executed"
   ]
  },
  {
   "cell_type": "markdown",
   "metadata": {},
   "source": [
    "## Identifiers: Names given to variables/functions/classes\n",
    "- identifiers should start with a letter [A-Z] or an underscore\n",
    "- it may or may not be followed by 1 or more combination of letters, underscore or digits [0-9]\n",
    "- it may not include any special character\n",
    "- reserved words can not be used (class, for, if, else, break,..)\n",
    "- built-ins should not be used (print, len,...)\n",
    "- Case-sensitive."
   ]
  },
  {
   "cell_type": "code",
   "execution_count": 3,
   "metadata": {},
   "outputs": [],
   "source": [
    "# Built-in functions - ctrl+? to comment more lines ot text"
   ]
  },
  {
   "cell_type": "code",
   "execution_count": 4,
   "metadata": {},
   "outputs": [
    {
     "name": "stdout",
     "output_type": "stream",
     "text": [
      "Help on built-in function abs in module builtins:\n",
      "\n",
      "abs(x, /)\n",
      "    Return the absolute value of the argument.\n",
      "\n"
     ]
    }
   ],
   "source": [
    "help(abs)"
   ]
  },
  {
   "cell_type": "code",
   "execution_count": 5,
   "metadata": {},
   "outputs": [],
   "source": [
    "?abs"
   ]
  },
  {
   "cell_type": "markdown",
   "metadata": {},
   "source": [
    "## Data Types:\n",
    "- integer;\n",
    "- float;\n",
    "- boolean;\n",
    "- strings."
   ]
  },
  {
   "cell_type": "markdown",
   "metadata": {},
   "source": [
    "#### Python Strings"
   ]
  },
  {
   "cell_type": "code",
   "execution_count": 6,
   "metadata": {},
   "outputs": [
    {
     "name": "stdout",
     "output_type": "stream",
     "text": [
      "This is the first session!\n"
     ]
    }
   ],
   "source": [
    "\n",
    "message='This is the first session!'\n",
    "print(message)"
   ]
  },
  {
   "cell_type": "code",
   "execution_count": 7,
   "metadata": {},
   "outputs": [
    {
     "ename": "SyntaxError",
     "evalue": "invalid syntax (3490563748.py, line 1)",
     "output_type": "error",
     "traceback": [
      "\u001b[1;36m  Input \u001b[1;32mIn [7]\u001b[1;36m\u001b[0m\n\u001b[1;33m    message2='You can't rise abobe by pulling others down!'\u001b[0m\n\u001b[1;37m                      ^\u001b[0m\n\u001b[1;31mSyntaxError\u001b[0m\u001b[1;31m:\u001b[0m invalid syntax\n"
     ]
    }
   ],
   "source": [
    "message2='You can't rise abobe by pulling others down!'"
   ]
  },
  {
   "cell_type": "code",
   "execution_count": 8,
   "metadata": {},
   "outputs": [
    {
     "name": "stdout",
     "output_type": "stream",
     "text": [
      "You can't rise abobe by pulling others down!\n"
     ]
    }
   ],
   "source": [
    "message2='You can\\'t rise abobe by pulling others down!'\n",
    "print(message2)"
   ]
  },
  {
   "cell_type": "code",
   "execution_count": 9,
   "metadata": {},
   "outputs": [
    {
     "name": "stdout",
     "output_type": "stream",
     "text": [
      "You can't rise abobe by pulling others down!\n"
     ]
    }
   ],
   "source": [
    "message2=\"You can't rise abobe by pulling others down!\"\n",
    "print(message2)"
   ]
  },
  {
   "cell_type": "code",
   "execution_count": 10,
   "metadata": {},
   "outputs": [
    {
     "ename": "SyntaxError",
     "evalue": "invalid character '“' (U+201C) (1072160907.py, line 2)",
     "output_type": "error",
     "traceback": [
      "\u001b[1;36m  Input \u001b[1;32mIn [10]\u001b[1;36m\u001b[0m\n\u001b[1;33m    “Define the problem, collect the data\u001b[0m\n\u001b[1;37m    ^\u001b[0m\n\u001b[1;31mSyntaxError\u001b[0m\u001b[1;31m:\u001b[0m invalid character '“' (U+201C)\n"
     ]
    }
   ],
   "source": [
    "# one line-one statement\n",
    "“Define the problem, collect the data\n",
    "And you'll discover insights later.\n",
    "Extract, transform, load, and clean\n",
    "Visualize on your big screen.”"
   ]
  },
  {
   "cell_type": "code",
   "execution_count": 11,
   "metadata": {},
   "outputs": [
    {
     "name": "stdout",
     "output_type": "stream",
     "text": [
      "Define the problem, collect the data\n",
      "And you'll discover insights later.\n",
      "Extract, transform, load, and clean\n",
      "Visualize on your big screen.\n"
     ]
    }
   ],
   "source": [
    "print(\"Define the problem, collect the data\\nAnd you'll discover insights later.\\nExtract, transform, load, and clean\\nVisualize on your big screen.\")"
   ]
  },
  {
   "cell_type": "code",
   "execution_count": 12,
   "metadata": {},
   "outputs": [
    {
     "name": "stdout",
     "output_type": "stream",
     "text": [
      "Define the problem, collect the dataAnd you'll discover insights later.Extract, transform, load, and cleanVisualize on your big screen.\n"
     ]
    }
   ],
   "source": [
    "print(\"Define the problem, collect the data\\\n",
    "And you'll discover insights later.\\\n",
    "Extract, transform, load, and clean\\\n",
    "Visualize on your big screen.\")"
   ]
  },
  {
   "cell_type": "code",
   "execution_count": 13,
   "metadata": {},
   "outputs": [
    {
     "name": "stdout",
     "output_type": "stream",
     "text": [
      "Define the problem, collect the data\n",
      "And you'll discover insights later\n",
      "Extract, transform, load, and clean\n",
      "Visualize on your big screen.\n"
     ]
    }
   ],
   "source": [
    "# use triple quotes or triple double quotes\n",
    "print('''Define the problem, collect the data\n",
    "And you'll discover insights later\n",
    "Extract, transform, load, and clean\n",
    "Visualize on your big screen.''')"
   ]
  },
  {
   "cell_type": "code",
   "execution_count": 14,
   "metadata": {},
   "outputs": [
    {
     "name": "stdout",
     "output_type": "stream",
     "text": [
      "['ArithmeticError', 'AssertionError', 'AttributeError', 'BaseException', 'BlockingIOError', 'BrokenPipeError', 'BufferError', 'BytesWarning', 'ChildProcessError', 'ConnectionAbortedError', 'ConnectionError', 'ConnectionRefusedError', 'ConnectionResetError', 'DeprecationWarning', 'EOFError', 'Ellipsis', 'EnvironmentError', 'Exception', 'False', 'FileExistsError', 'FileNotFoundError', 'FloatingPointError', 'FutureWarning', 'GeneratorExit', 'IOError', 'ImportError', 'ImportWarning', 'IndentationError', 'IndexError', 'InterruptedError', 'IsADirectoryError', 'KeyError', 'KeyboardInterrupt', 'LookupError', 'MemoryError', 'ModuleNotFoundError', 'NameError', 'None', 'NotADirectoryError', 'NotImplemented', 'NotImplementedError', 'OSError', 'OverflowError', 'PendingDeprecationWarning', 'PermissionError', 'ProcessLookupError', 'RecursionError', 'ReferenceError', 'ResourceWarning', 'RuntimeError', 'RuntimeWarning', 'StopAsyncIteration', 'StopIteration', 'SyntaxError', 'SyntaxWarning', 'SystemError', 'SystemExit', 'TabError', 'TimeoutError', 'True', 'TypeError', 'UnboundLocalError', 'UnicodeDecodeError', 'UnicodeEncodeError', 'UnicodeError', 'UnicodeTranslateError', 'UnicodeWarning', 'UserWarning', 'ValueError', 'Warning', 'WindowsError', 'ZeroDivisionError', '__IPYTHON__', '__build_class__', '__debug__', '__doc__', '__import__', '__loader__', '__name__', '__package__', '__spec__', 'abs', 'all', 'any', 'ascii', 'bin', 'bool', 'breakpoint', 'bytearray', 'bytes', 'callable', 'chr', 'classmethod', 'compile', 'complex', 'copyright', 'credits', 'delattr', 'dict', 'dir', 'display', 'divmod', 'enumerate', 'eval', 'exec', 'execfile', 'filter', 'float', 'format', 'frozenset', 'get_ipython', 'getattr', 'globals', 'hasattr', 'hash', 'help', 'hex', 'id', 'input', 'int', 'isinstance', 'issubclass', 'iter', 'len', 'license', 'list', 'locals', 'map', 'max', 'memoryview', 'min', 'next', 'object', 'oct', 'open', 'ord', 'pow', 'print', 'property', 'range', 'repr', 'reversed', 'round', 'runfile', 'set', 'setattr', 'slice', 'sorted', 'staticmethod', 'str', 'sum', 'super', 'tuple', 'type', 'vars', 'zip']\n"
     ]
    }
   ],
   "source": [
    "print(dir(__builtin__))"
   ]
  },
  {
   "cell_type": "code",
   "execution_count": 15,
   "metadata": {},
   "outputs": [
    {
     "name": "stdout",
     "output_type": "stream",
     "text": [
      "['__add__', '__class__', '__contains__', '__delattr__', '__dir__', '__doc__', '__eq__', '__format__', '__ge__', '__getattribute__', '__getitem__', '__getnewargs__', '__gt__', '__hash__', '__init__', '__init_subclass__', '__iter__', '__le__', '__len__', '__lt__', '__mod__', '__mul__', '__ne__', '__new__', '__reduce__', '__reduce_ex__', '__repr__', '__rmod__', '__rmul__', '__setattr__', '__sizeof__', '__str__', '__subclasshook__', 'capitalize', 'casefold', 'center', 'count', 'encode', 'endswith', 'expandtabs', 'find', 'format', 'format_map', 'index', 'isalnum', 'isalpha', 'isascii', 'isdecimal', 'isdigit', 'isidentifier', 'islower', 'isnumeric', 'isprintable', 'isspace', 'istitle', 'isupper', 'join', 'ljust', 'lower', 'lstrip', 'maketrans', 'partition', 'removeprefix', 'removesuffix', 'replace', 'rfind', 'rindex', 'rjust', 'rpartition', 'rsplit', 'rstrip', 'split', 'splitlines', 'startswith', 'strip', 'swapcase', 'title', 'translate', 'upper', 'zfill']\n"
     ]
    }
   ],
   "source": [
    "print(dir(message))"
   ]
  },
  {
   "cell_type": "code",
   "execution_count": 16,
   "metadata": {},
   "outputs": [
    {
     "data": {
      "text/plain": [
       "'THIS IS THE FIRST SESSION!'"
      ]
     },
     "execution_count": 16,
     "metadata": {},
     "output_type": "execute_result"
    }
   ],
   "source": [
    "#dot operator\n",
    "message.upper()"
   ]
  },
  {
   "cell_type": "code",
   "execution_count": 17,
   "metadata": {},
   "outputs": [
    {
     "data": {
      "text/plain": [
       "1"
      ]
     },
     "execution_count": 17,
     "metadata": {},
     "output_type": "execute_result"
    }
   ],
   "source": [
    "# use tab\n",
    "message.find('h')"
   ]
  },
  {
   "cell_type": "markdown",
   "metadata": {},
   "source": [
    "#### Numbers\n",
    "- integers\n",
    "- float"
   ]
  },
  {
   "cell_type": "code",
   "execution_count": 18,
   "metadata": {},
   "outputs": [],
   "source": [
    "x=50\n",
    "y=45.90"
   ]
  },
  {
   "cell_type": "code",
   "execution_count": 19,
   "metadata": {},
   "outputs": [
    {
     "data": {
      "text/plain": [
       "int"
      ]
     },
     "execution_count": 19,
     "metadata": {},
     "output_type": "execute_result"
    }
   ],
   "source": [
    "type(x)"
   ]
  },
  {
   "cell_type": "code",
   "execution_count": 20,
   "metadata": {},
   "outputs": [
    {
     "data": {
      "text/plain": [
       "float"
      ]
     },
     "execution_count": 20,
     "metadata": {},
     "output_type": "execute_result"
    }
   ],
   "source": [
    "type(y)"
   ]
  },
  {
   "cell_type": "code",
   "execution_count": 21,
   "metadata": {},
   "outputs": [
    {
     "data": {
      "text/plain": [
       "str"
      ]
     },
     "execution_count": 21,
     "metadata": {},
     "output_type": "execute_result"
    }
   ],
   "source": [
    "type(message)"
   ]
  },
  {
   "cell_type": "code",
   "execution_count": 22,
   "metadata": {},
   "outputs": [
    {
     "name": "stdout",
     "output_type": "stream",
     "text": [
      "<class 'int'>\n",
      "<class 'float'>\n",
      "<class 'str'>\n"
     ]
    }
   ],
   "source": [
    "print(type(x))\n",
    "print(type(y))\n",
    "print(type(message))"
   ]
  },
  {
   "cell_type": "markdown",
   "metadata": {},
   "source": [
    "#### Boolean"
   ]
  },
  {
   "cell_type": "code",
   "execution_count": 23,
   "metadata": {},
   "outputs": [],
   "source": [
    "a=True\n",
    "b=False"
   ]
  },
  {
   "cell_type": "code",
   "execution_count": 24,
   "metadata": {},
   "outputs": [
    {
     "name": "stdout",
     "output_type": "stream",
     "text": [
      "<class 'bool'>\n"
     ]
    }
   ],
   "source": [
    "print(type(a))"
   ]
  },
  {
   "cell_type": "markdown",
   "metadata": {},
   "source": [
    "#### Type conversion"
   ]
  },
  {
   "cell_type": "code",
   "execution_count": 25,
   "metadata": {},
   "outputs": [],
   "source": [
    "#convert to string\n",
    "ex1=25\n",
    "ex2=35.67\n",
    "ex3=True"
   ]
  },
  {
   "cell_type": "code",
   "execution_count": 26,
   "metadata": {},
   "outputs": [
    {
     "name": "stdout",
     "output_type": "stream",
     "text": [
      "25 : <class 'int'> String Conversion 25 : <class 'str'>\n"
     ]
    }
   ],
   "source": [
    "print(ex1,':',type(ex1),'String Conversion',str(ex1),':',type(str(ex1)))"
   ]
  },
  {
   "cell_type": "code",
   "execution_count": 27,
   "metadata": {},
   "outputs": [
    {
     "data": {
      "text/plain": [
       "'35.67'"
      ]
     },
     "execution_count": 27,
     "metadata": {},
     "output_type": "execute_result"
    }
   ],
   "source": [
    "str(ex2)"
   ]
  },
  {
   "cell_type": "code",
   "execution_count": 28,
   "metadata": {},
   "outputs": [
    {
     "name": "stdout",
     "output_type": "stream",
     "text": [
      "35.67 : <class 'float'> After the conversion 35.67 : <class 'str'>\n"
     ]
    }
   ],
   "source": [
    "print(ex2,':',type(ex2),'After the conversion',str(ex2),':',type(str(ex2)))"
   ]
  },
  {
   "cell_type": "code",
   "execution_count": 29,
   "metadata": {},
   "outputs": [
    {
     "name": "stdout",
     "output_type": "stream",
     "text": [
      "True : <class 'bool'> After the conversion True : <class 'str'>\n"
     ]
    }
   ],
   "source": [
    "print(ex3,':',type(ex3),'After the conversion',str(ex3),':',type(str(ex3)))"
   ]
  },
  {
   "cell_type": "code",
   "execution_count": 30,
   "metadata": {},
   "outputs": [],
   "source": [
    "ex_conv=str(ex2)"
   ]
  },
  {
   "cell_type": "code",
   "execution_count": 31,
   "metadata": {},
   "outputs": [
    {
     "data": {
      "text/plain": [
       "'35.67'"
      ]
     },
     "execution_count": 31,
     "metadata": {},
     "output_type": "execute_result"
    }
   ],
   "source": [
    "ex_conv"
   ]
  },
  {
   "cell_type": "code",
   "execution_count": 32,
   "metadata": {},
   "outputs": [
    {
     "data": {
      "text/plain": [
       "78.0"
      ]
     },
     "execution_count": 32,
     "metadata": {},
     "output_type": "execute_result"
    }
   ],
   "source": [
    "#Conversion between integer and float\n",
    "ex4=78\n",
    "float(78)"
   ]
  },
  {
   "cell_type": "code",
   "execution_count": 33,
   "metadata": {},
   "outputs": [],
   "source": [
    "ex5=77.999"
   ]
  },
  {
   "cell_type": "code",
   "execution_count": 34,
   "metadata": {},
   "outputs": [
    {
     "data": {
      "text/plain": [
       "77"
      ]
     },
     "execution_count": 34,
     "metadata": {},
     "output_type": "execute_result"
    }
   ],
   "source": [
    "int(ex5)"
   ]
  },
  {
   "cell_type": "code",
   "execution_count": 35,
   "metadata": {},
   "outputs": [],
   "source": [
    "#Conversion to boolean\n",
    "ex6=0\n",
    "ex7=34\n",
    "ex8=-78\n",
    "ex9=''\n",
    "ex10=' '\n",
    "ex11='False'\n",
    "ex12=0.000000000001"
   ]
  },
  {
   "cell_type": "code",
   "execution_count": 36,
   "metadata": {},
   "outputs": [
    {
     "name": "stdout",
     "output_type": "stream",
     "text": [
      "0 --> False\n",
      "34 --> True\n",
      "-78 --> True\n",
      " --> False\n",
      "  --> True\n",
      "False --> True\n",
      "1e-12 --> True\n"
     ]
    }
   ],
   "source": [
    "print(ex6,'-->',bool(ex6))\n",
    "print(ex7,'-->',bool(ex7))\n",
    "print(ex8,'-->',bool(ex8))\n",
    "print(ex9,'-->',bool(ex9))\n",
    "print(ex10,'-->',bool(ex10))\n",
    "print(ex11,'-->',bool(ex11))\n",
    "print(ex12,'-->',bool(ex12))\n"
   ]
  },
  {
   "cell_type": "code",
   "execution_count": 37,
   "metadata": {},
   "outputs": [],
   "source": [
    "#Conversion from string to int or float\n",
    "s1='23'\n",
    "s2='50'\n",
    "s3='-50'\n",
    "s4='45 76'\n",
    "s5='98.77'\n",
    "s6='6798 s'"
   ]
  },
  {
   "cell_type": "code",
   "execution_count": 38,
   "metadata": {},
   "outputs": [
    {
     "name": "stdout",
     "output_type": "stream",
     "text": [
      "23 --> 23\n",
      "50 --> 50\n",
      "-50 --> -50\n"
     ]
    }
   ],
   "source": [
    "#convert to int\n",
    "print(s1,'-->',int(s1))\n",
    "print(s2,'-->',int(s2))\n",
    "print(s3,'-->',int(s3))"
   ]
  },
  {
   "cell_type": "code",
   "execution_count": 39,
   "metadata": {},
   "outputs": [
    {
     "ename": "ValueError",
     "evalue": "invalid literal for int() with base 10: '6798 s'",
     "output_type": "error",
     "traceback": [
      "\u001b[1;31m---------------------------------------------------------------------------\u001b[0m",
      "\u001b[1;31mValueError\u001b[0m                                Traceback (most recent call last)",
      "Input \u001b[1;32mIn [39]\u001b[0m, in \u001b[0;36m<cell line: 1>\u001b[1;34m()\u001b[0m\n\u001b[1;32m----> 1\u001b[0m \u001b[38;5;28mprint\u001b[39m(\u001b[38;5;28;43mint\u001b[39;49m\u001b[43m(\u001b[49m\u001b[43ms6\u001b[49m\u001b[43m)\u001b[49m)\n",
      "\u001b[1;31mValueError\u001b[0m: invalid literal for int() with base 10: '6798 s'"
     ]
    }
   ],
   "source": [
    "print(int(s6))"
   ]
  },
  {
   "cell_type": "code",
   "execution_count": 45,
   "metadata": {},
   "outputs": [],
   "source": [
    "#convert to float"
   ]
  },
  {
   "cell_type": "code",
   "execution_count": 46,
   "metadata": {},
   "outputs": [
    {
     "name": "stdout",
     "output_type": "stream",
     "text": [
      "23 --> 23.0\n",
      "50 --> 50.0\n",
      "-50 --> -50.0\n"
     ]
    }
   ],
   "source": [
    "print(s1,'-->',float(s1))\n",
    "print(s2,'-->',float(s2))\n",
    "print(s3,'-->',float(s3))"
   ]
  },
  {
   "cell_type": "code",
   "execution_count": 47,
   "metadata": {},
   "outputs": [
    {
     "ename": "ValueError",
     "evalue": "could not convert string to float: '6798 s'",
     "output_type": "error",
     "traceback": [
      "\u001b[1;31m---------------------------------------------------------------------------\u001b[0m",
      "\u001b[1;31mValueError\u001b[0m                                Traceback (most recent call last)",
      "Input \u001b[1;32mIn [47]\u001b[0m, in \u001b[0;36m<cell line: 1>\u001b[1;34m()\u001b[0m\n\u001b[1;32m----> 1\u001b[0m \u001b[38;5;28mprint\u001b[39m(s6,\u001b[38;5;124m'\u001b[39m\u001b[38;5;124m-->\u001b[39m\u001b[38;5;124m'\u001b[39m,\u001b[38;5;28;43mfloat\u001b[39;49m\u001b[43m(\u001b[49m\u001b[43ms6\u001b[49m\u001b[43m)\u001b[49m)\n",
      "\u001b[1;31mValueError\u001b[0m: could not convert string to float: '6798 s'"
     ]
    }
   ],
   "source": [
    "print(s6,'-->',float(s6))"
   ]
  },
  {
   "cell_type": "code",
   "execution_count": 48,
   "metadata": {},
   "outputs": [],
   "source": [
    "ex_conv=float(s2)"
   ]
  },
  {
   "cell_type": "code",
   "execution_count": 49,
   "metadata": {},
   "outputs": [
    {
     "data": {
      "text/plain": [
       "float"
      ]
     },
     "execution_count": 49,
     "metadata": {},
     "output_type": "execute_result"
    }
   ],
   "source": [
    "type(ex_conv)"
   ]
  },
  {
   "cell_type": "code",
   "execution_count": 50,
   "metadata": {},
   "outputs": [
    {
     "data": {
      "text/plain": [
       "1"
      ]
     },
     "execution_count": 50,
     "metadata": {},
     "output_type": "execute_result"
    }
   ],
   "source": [
    "int(True)"
   ]
  },
  {
   "cell_type": "code",
   "execution_count": 51,
   "metadata": {},
   "outputs": [
    {
     "data": {
      "text/plain": [
       "0.0"
      ]
     },
     "execution_count": 51,
     "metadata": {},
     "output_type": "execute_result"
    }
   ],
   "source": [
    "float(False)"
   ]
  },
  {
   "cell_type": "code",
   "execution_count": 52,
   "metadata": {},
   "outputs": [
    {
     "data": {
      "text/plain": [
       "'False'"
      ]
     },
     "execution_count": 52,
     "metadata": {},
     "output_type": "execute_result"
    }
   ],
   "source": [
    "str(False)"
   ]
  },
  {
   "cell_type": "code",
   "execution_count": 53,
   "metadata": {},
   "outputs": [
    {
     "data": {
      "text/plain": [
       "1.0"
      ]
     },
     "execution_count": 53,
     "metadata": {},
     "output_type": "execute_result"
    }
   ],
   "source": [
    "float(True)"
   ]
  },
  {
   "cell_type": "markdown",
   "metadata": {},
   "source": [
    "### Operators"
   ]
  },
  {
   "cell_type": "markdown",
   "metadata": {},
   "source": [
    "# Arithmetic Operators\n",
    "1. +-/*\n",
    "2. % modulus-remainder\n",
    "3. // integer divide - quotient\n",
    "4. ** exponent\n",
    "\n",
    "# Relational Operators\n",
    "1. ==   !=\n",
    "2. >    >=\n",
    "3. <    <=\n",
    "\n",
    "# Membership Operators\n",
    "1. in\n",
    "2. not in\n",
    "\n",
    "# Logical Operators\n",
    "1. AND\n",
    "2. OR\n",
    "3. NOT\n",
    "4. & - bitwise and\n",
    "5. | - bitwise or\n",
    "6. ~ - bitwise not"
   ]
  },
  {
   "cell_type": "markdown",
   "metadata": {},
   "source": [
    "#### Data Structures"
   ]
  },
  {
   "cell_type": "code",
   "execution_count": 54,
   "metadata": {},
   "outputs": [],
   "source": [
    "#Data Structures: Sets|Lists|Tuples|Dictionaries"
   ]
  },
  {
   "cell_type": "markdown",
   "metadata": {},
   "source": [
    "- SET"
   ]
  },
  {
   "cell_type": "code",
   "execution_count": 55,
   "metadata": {},
   "outputs": [],
   "source": [
    "# Sets: unordered collections of unique data elements\n",
    "# Set's can't contain mutable objects, but they are mutable"
   ]
  },
  {
   "cell_type": "code",
   "execution_count": 56,
   "metadata": {},
   "outputs": [],
   "source": [
    "empty_set=set()\n",
    "basket = {'apples', 'milk', 'eggs', 'jam', 'curd', 'coconut', 'cream', 'mayo', 'cheese', \n",
    " 'milk', 'almonds', 'grapes', 'apples','oranges', 'coconut', 'bread', 'butter', 'jam'}\n",
    "mix = {23, 98.66, True, 'string', 23, 87, True}"
   ]
  },
  {
   "cell_type": "code",
   "execution_count": 57,
   "metadata": {},
   "outputs": [
    {
     "name": "stdout",
     "output_type": "stream",
     "text": [
      "Empty set: set() Length of the set: 0\n"
     ]
    }
   ],
   "source": [
    "print('Empty set:',empty_set,'Length of the set:',len(empty_set))"
   ]
  },
  {
   "cell_type": "code",
   "execution_count": 58,
   "metadata": {},
   "outputs": [
    {
     "name": "stdout",
     "output_type": "stream",
     "text": [
      "Empty set:set() Length of the set:0\n"
     ]
    }
   ],
   "source": [
    "print('Empty set:{} Length of the set:{}'.format(empty_set,len(empty_set)))"
   ]
  },
  {
   "cell_type": "code",
   "execution_count": 59,
   "metadata": {},
   "outputs": [
    {
     "name": "stdout",
     "output_type": "stream",
     "text": [
      "Basket set:{'bread', 'cheese', 'grapes', 'apples', 'mayo', 'oranges', 'milk', 'jam', 'coconut', 'eggs', 'butter', 'cream', 'almonds', 'curd'} Length of the set:14\n"
     ]
    }
   ],
   "source": [
    "print('Basket set:{} Length of the set:{}'.format(basket,len(basket)))"
   ]
  },
  {
   "cell_type": "code",
   "execution_count": 60,
   "metadata": {},
   "outputs": [
    {
     "name": "stdout",
     "output_type": "stream",
     "text": [
      "Mix set:{True, 98.66, 87, 23, 'string'} Length of the set:5\n"
     ]
    }
   ],
   "source": [
    "print('Mix set:{} Length of the set:{}'.format(mix,len(mix)))"
   ]
  },
  {
   "cell_type": "code",
   "execution_count": 61,
   "metadata": {},
   "outputs": [
    {
     "name": "stdout",
     "output_type": "stream",
     "text": [
      "I have 100 book\n"
     ]
    }
   ],
   "source": [
    "print('I have',100,'book')"
   ]
  },
  {
   "cell_type": "code",
   "execution_count": 62,
   "metadata": {},
   "outputs": [
    {
     "data": {
      "text/plain": [
       "'I have GREAT books.They are all GREAT.'"
      ]
     },
     "execution_count": 62,
     "metadata": {},
     "output_type": "execute_result"
    }
   ],
   "source": [
    "'I have {1} books.They are all {1}.'.format(100,'GREAT')"
   ]
  },
  {
   "cell_type": "code",
   "execution_count": 63,
   "metadata": {},
   "outputs": [
    {
     "name": "stdout",
     "output_type": "stream",
     "text": [
      "{'bread', 'cheese', 'grapes', 'apples', 'mayo', 'oranges', 'milk', 'jam', 'coconut', 'eggs', 'butter', 'cream', 'almonds', 'curd'}\n"
     ]
    }
   ],
   "source": [
    "#Add an element\n",
    "print(basket)"
   ]
  },
  {
   "cell_type": "code",
   "execution_count": 64,
   "metadata": {},
   "outputs": [
    {
     "name": "stdout",
     "output_type": "stream",
     "text": [
      "Before add\n",
      " {'bread', 'cheese', 'grapes', 'apples', 'mayo', 'oranges', 'milk', 'jam', 'coconut', 'eggs', 'butter', 'cream', 'almonds', 'curd'} \n",
      "Length of the set 14\n",
      "\n",
      "After add\n",
      " {'bread', 'cheese', 'grapes', 'apples', 'mayo', 'oranges', 'milk', 'jam', 'coconut', 'eggs', 'butter', 'cream', 'almonds', 'curd'} \n",
      "Length of the set 14\n",
      "\n"
     ]
    }
   ],
   "source": [
    "print('Before add\\n {} \\nLength of the set {}\\n'.format(basket,len(basket)))\n",
    "basket.add('jam')\n",
    "print('After add\\n {} \\nLength of the set {}\\n'.format(basket,len(basket)))"
   ]
  },
  {
   "cell_type": "code",
   "execution_count": 65,
   "metadata": {},
   "outputs": [
    {
     "name": "stdout",
     "output_type": "stream",
     "text": [
      "Before add\n",
      " {'bread', 'cheese', 'grapes', 'apples', 'mayo', 'oranges', 'milk', 'jam', 'coconut', 'eggs', 'butter', 'cream', 'almonds', 'curd'} \n",
      "Length of the set 14\n",
      "\n",
      "After add\n",
      " {'bread', 'cheese', 'grapes', 'lemons', 'apples', 'mayo', 'oranges', 'milk', 'jam', 'coconut', 'eggs', 'butter', 'cream', 'almonds', 'curd'} \n",
      "Length of the set 15\n",
      "\n"
     ]
    }
   ],
   "source": [
    "print('Before add\\n {} \\nLength of the set {}\\n'.format(basket,len(basket)))\n",
    "basket.add('lemons')\n",
    "print('After add\\n {} \\nLength of the set {}\\n'.format(basket,len(basket)))"
   ]
  },
  {
   "cell_type": "code",
   "execution_count": 66,
   "metadata": {},
   "outputs": [
    {
     "name": "stdout",
     "output_type": "stream",
     "text": [
      "Before remove\n",
      " {'bread', 'cheese', 'grapes', 'lemons', 'apples', 'mayo', 'oranges', 'milk', 'jam', 'coconut', 'eggs', 'butter', 'cream', 'almonds', 'curd'} \n",
      "Length of the set 15\n",
      "\n",
      "After remove\n",
      " {'bread', 'cheese', 'grapes', 'apples', 'mayo', 'oranges', 'milk', 'jam', 'coconut', 'eggs', 'butter', 'cream', 'almonds', 'curd'} \n",
      "Length of the set 14\n",
      "\n"
     ]
    }
   ],
   "source": [
    "#remove\n",
    "print('Before remove\\n {} \\nLength of the set {}\\n'.format(basket,len(basket)))\n",
    "basket.remove('lemons')\n",
    "print('After remove\\n {} \\nLength of the set {}\\n'.format(basket,len(basket)))"
   ]
  },
  {
   "cell_type": "code",
   "execution_count": 67,
   "metadata": {},
   "outputs": [
    {
     "name": "stdout",
     "output_type": "stream",
     "text": [
      "Before pop\n",
      " {'bread', 'cheese', 'grapes', 'apples', 'mayo', 'oranges', 'milk', 'jam', 'coconut', 'eggs', 'butter', 'cream', 'almonds', 'curd'} \n",
      "Length of the set 14\n",
      "\n",
      "Element popped bread \n",
      "\n",
      "After pop\n",
      " {'cheese', 'grapes', 'apples', 'mayo', 'oranges', 'milk', 'jam', 'coconut', 'eggs', 'butter', 'cream', 'almonds', 'curd'} \n",
      "Length of the set 13\n",
      "\n"
     ]
    }
   ],
   "source": [
    "#using pop\n",
    "print('Before pop\\n {} \\nLength of the set {}\\n'.format(basket,len(basket)))\n",
    "print('Element popped',basket.pop(),'\\n')\n",
    "print('After pop\\n {} \\nLength of the set {}\\n'.format(basket,len(basket)))"
   ]
  },
  {
   "cell_type": "code",
   "execution_count": 68,
   "metadata": {},
   "outputs": [],
   "source": [
    "basket_1 = {'apples', 'milk', 'eggs', 'jam', 'curd', 'coconut', 'cream', 'mayo', 'cheese'}\n",
    "basket_2={'milk', 'almonds', 'grapes', 'apples','oranges', 'coconut', 'bread', 'butter', 'jam'}"
   ]
  },
  {
   "cell_type": "code",
   "execution_count": 69,
   "metadata": {},
   "outputs": [
    {
     "name": "stdout",
     "output_type": "stream",
     "text": [
      "Union of basket1 & basket2\n",
      " {'butter', 'bread', 'cheese', 'grapes', 'apples', 'mayo', 'oranges', 'milk', 'jam', 'coconut', 'eggs', 'cream', 'almonds', 'curd'}\n"
     ]
    }
   ],
   "source": [
    "#union: combining elements of the two sets\n",
    "print('Union of basket1 & basket2\\n',basket_1.union(basket_2))"
   ]
  },
  {
   "cell_type": "code",
   "execution_count": 71,
   "metadata": {},
   "outputs": [
    {
     "name": "stdout",
     "output_type": "stream",
     "text": [
      "Intersection of basket1 & basket2\n",
      " {'jam', 'apples', 'milk', 'coconut'}\n"
     ]
    }
   ],
   "source": [
    "#intersection: common elements in the sets\n",
    "print('Intersection of basket1 & basket2\\n',basket_1.intersection(basket_2))"
   ]
  },
  {
   "cell_type": "code",
   "execution_count": 72,
   "metadata": {},
   "outputs": [
    {
     "data": {
      "text/plain": [
       "{'cheese', 'cream', 'curd', 'eggs', 'mayo'}"
      ]
     },
     "execution_count": 72,
     "metadata": {},
     "output_type": "execute_result"
    }
   ],
   "source": [
    "#difference: uncommon\n",
    "#all elements in basket 1 which are absent in basket 2\n",
    "basket_1.difference(basket_2)\n"
   ]
  },
  {
   "cell_type": "code",
   "execution_count": 73,
   "metadata": {},
   "outputs": [
    {
     "data": {
      "text/plain": [
       "{'almonds', 'bread', 'butter', 'grapes', 'oranges'}"
      ]
     },
     "execution_count": 73,
     "metadata": {},
     "output_type": "execute_result"
    }
   ],
   "source": [
    "#all elements in basket 2 which are absent in basket 1\n",
    "basket_2.difference(basket_1)"
   ]
  },
  {
   "cell_type": "code",
   "execution_count": 74,
   "metadata": {},
   "outputs": [
    {
     "name": "stdout",
     "output_type": "stream",
     "text": [
      "{'bread', 'cheese', 'grapes', 'eggs', 'mayo', 'oranges', 'almonds', 'butter', 'cream', 'curd'}\n"
     ]
    }
   ],
   "source": [
    "#all elements except common elements\n",
    "print(basket_1.symmetric_difference(basket_2))"
   ]
  },
  {
   "cell_type": "code",
   "execution_count": 75,
   "metadata": {},
   "outputs": [
    {
     "name": "stdout",
     "output_type": "stream",
     "text": [
      "{'cheese', 'apples', 'mayo', 'milk', 'jam', 'coconut', 'eggs', 'cream', 'curd'}\n",
      "{'bread', 'grapes', 'apples', 'oranges', 'milk', 'almonds', 'coconut', 'jam', 'butter'}\n"
     ]
    }
   ],
   "source": [
    "print(basket_1)\n",
    "print(basket_2)"
   ]
  },
  {
   "cell_type": "code",
   "execution_count": 76,
   "metadata": {},
   "outputs": [],
   "source": [
    "s1={1,2,3,4,6}\n",
    "s2={1,3,4,5,6}"
   ]
  },
  {
   "cell_type": "code",
   "execution_count": 77,
   "metadata": {},
   "outputs": [
    {
     "name": "stdout",
     "output_type": "stream",
     "text": [
      "{1, 2, 3, 4, 6}\n",
      "{1, 3, 4, 5, 6}\n"
     ]
    }
   ],
   "source": [
    "print(s1)\n",
    "print(s2)"
   ]
  },
  {
   "cell_type": "code",
   "execution_count": 78,
   "metadata": {},
   "outputs": [
    {
     "name": "stdout",
     "output_type": "stream",
     "text": [
      "{2, 5}\n"
     ]
    }
   ],
   "source": [
    "print(s1.symmetric_difference(s2))"
   ]
  },
  {
   "cell_type": "code",
   "execution_count": 79,
   "metadata": {},
   "outputs": [
    {
     "name": "stdout",
     "output_type": "stream",
     "text": [
      "{'butter', 'bread', 'cheese', 'grapes', 'apples', 'mayo', 'oranges', 'milk', 'jam', 'coconut', 'eggs', 'cream', 'almonds', 'curd'}\n"
     ]
    }
   ],
   "source": [
    "#update - add multiple elements at a time\n",
    "basket_1.update(basket_2)\n",
    "print(basket_1)"
   ]
  },
  {
   "cell_type": "code",
   "execution_count": 80,
   "metadata": {},
   "outputs": [
    {
     "name": "stdout",
     "output_type": "stream",
     "text": [
      "{1, 2, 3, 4, 5, 6}\n"
     ]
    }
   ],
   "source": [
    "s1.update(s2)\n",
    "print(s1)"
   ]
  },
  {
   "cell_type": "markdown",
   "metadata": {},
   "source": [
    "- List"
   ]
  },
  {
   "cell_type": "code",
   "execution_count": 81,
   "metadata": {},
   "outputs": [],
   "source": [
    "# Lists are ordered collection of data\n",
    "empty_list=list() # []\n",
    "x=list('abc')\n",
    "x2=['a','b','c']"
   ]
  },
  {
   "cell_type": "code",
   "execution_count": 82,
   "metadata": {},
   "outputs": [
    {
     "data": {
      "text/plain": [
       "['a', 'b', 'c']"
      ]
     },
     "execution_count": 82,
     "metadata": {},
     "output_type": "execute_result"
    }
   ],
   "source": [
    "x"
   ]
  },
  {
   "cell_type": "code",
   "execution_count": 83,
   "metadata": {},
   "outputs": [
    {
     "data": {
      "text/plain": [
       "['a', 'b', 'c']"
      ]
     },
     "execution_count": 83,
     "metadata": {},
     "output_type": "execute_result"
    }
   ],
   "source": [
    "x2"
   ]
  },
  {
   "cell_type": "code",
   "execution_count": 84,
   "metadata": {},
   "outputs": [],
   "source": [
    "basket_list = ['apples', 'milk', 'eggs', 'jam', 'curd', 'coconut', 'cream', 'mayo', 'cheese', \n",
    " 'milk', 'almonds', 'grapes', 'apples','oranges', 'coconut', 'bread', 'butter', 'jam']"
   ]
  },
  {
   "cell_type": "code",
   "execution_count": 85,
   "metadata": {},
   "outputs": [],
   "source": [
    "alist=[1,'a',2,'b',3,'c',4,'d',5,'e',6,'f']"
   ]
  },
  {
   "cell_type": "code",
   "execution_count": 86,
   "metadata": {},
   "outputs": [],
   "source": [
    "mix_list=[['emma',23],45,{'grapes','lemons','apples','apples'}]"
   ]
  },
  {
   "cell_type": "code",
   "execution_count": 87,
   "metadata": {},
   "outputs": [
    {
     "name": "stdout",
     "output_type": "stream",
     "text": [
      "Empty list: [] Length of the list: 0\n",
      "Basket list:\n",
      " ['apples', 'milk', 'eggs', 'jam', 'curd', 'coconut', 'cream', 'mayo', 'cheese', 'milk', 'almonds', 'grapes', 'apples', 'oranges', 'coconut', 'bread', 'butter', 'jam'] \n",
      "Length of the list: 18\n",
      "alist:\n",
      " [1, 'a', 2, 'b', 3, 'c', 4, 'd', 5, 'e', 6, 'f'] \n",
      "Length of the list: 12\n",
      "Mix list:\n",
      " [['emma', 23], 45, {'lemons', 'apples', 'grapes'}] \n",
      "Length of the list: 3\n"
     ]
    }
   ],
   "source": [
    "print('Empty list: {} Length of the list: {}'.format(empty_list,len(empty_list)))\n",
    "print('Basket list:\\n {} \\nLength of the list: {}'.format(basket_list,len(basket_list)))\n",
    "print('alist:\\n {} \\nLength of the list: {}'.format(alist,len(alist)))\n",
    "print('Mix list:\\n {} \\nLength of the list: {}'.format(mix_list,len(mix_list)))"
   ]
  },
  {
   "cell_type": "code",
   "execution_count": 88,
   "metadata": {},
   "outputs": [],
   "source": [
    "#indices  0    1   2   3   4    5  6   7   8   9\n",
    "new_list=['a','b','c','d','e','f','g','h','i','j']\n",
    "#negative -10  -9  -8  -7  -6  -5  -4  -3  -2  -1"
   ]
  },
  {
   "cell_type": "code",
   "execution_count": 89,
   "metadata": {},
   "outputs": [
    {
     "data": {
      "text/plain": [
       "10"
      ]
     },
     "execution_count": 89,
     "metadata": {},
     "output_type": "execute_result"
    }
   ],
   "source": [
    "len(new_list)"
   ]
  },
  {
   "cell_type": "code",
   "execution_count": 90,
   "metadata": {},
   "outputs": [
    {
     "name": "stdout",
     "output_type": "stream",
     "text": [
      "First element: a\n",
      "Second element: b\n",
      "Third element: c\n"
     ]
    }
   ],
   "source": [
    "print('First element:',new_list[0])\n",
    "print('Second element:',new_list[1])\n",
    "print('Third element:',new_list[2])"
   ]
  },
  {
   "cell_type": "code",
   "execution_count": 91,
   "metadata": {},
   "outputs": [
    {
     "name": "stdout",
     "output_type": "stream",
     "text": [
      "Last Element: j\n",
      "Second Last Element: i\n",
      "Third Last Element: h\n"
     ]
    }
   ],
   "source": [
    "print('Last Element:',new_list[-1])\n",
    "print('Second Last Element:',new_list[-2])\n",
    "print('Third Last Element:',new_list[-3])"
   ]
  },
  {
   "cell_type": "markdown",
   "metadata": {},
   "source": [
    "#### Slicing - colon operator\n",
    "- start index:stop index:step\n",
    "- stop is always excluded"
   ]
  },
  {
   "cell_type": "code",
   "execution_count": 92,
   "metadata": {},
   "outputs": [
    {
     "data": {
      "text/plain": [
       "['a', 'b', 'c', 'd', 'e', 'f', 'g', 'h', 'i', 'j']"
      ]
     },
     "execution_count": 92,
     "metadata": {},
     "output_type": "execute_result"
    }
   ],
   "source": [
    "new_list"
   ]
  },
  {
   "cell_type": "code",
   "execution_count": 93,
   "metadata": {},
   "outputs": [
    {
     "data": {
      "text/plain": [
       "['c', 'd', 'e', 'f']"
      ]
     },
     "execution_count": 93,
     "metadata": {},
     "output_type": "execute_result"
    }
   ],
   "source": [
    "new_list[2:6] #starts at 2 and stop at 5 inclusive"
   ]
  },
  {
   "cell_type": "code",
   "execution_count": 94,
   "metadata": {},
   "outputs": [],
   "source": [
    "#if start is not mentioned default is 0\n",
    "#if stop is not mentioned default is : len(list)"
   ]
  },
  {
   "cell_type": "code",
   "execution_count": 95,
   "metadata": {},
   "outputs": [
    {
     "data": {
      "text/plain": [
       "['a', 'b', 'c', 'd', 'e', 'f', 'g', 'h', 'i', 'j']"
      ]
     },
     "execution_count": 95,
     "metadata": {},
     "output_type": "execute_result"
    }
   ],
   "source": [
    "new_list[:]"
   ]
  },
  {
   "cell_type": "code",
   "execution_count": 96,
   "metadata": {},
   "outputs": [
    {
     "data": {
      "text/plain": [
       "['c', 'd', 'e', 'f', 'g', 'h', 'i', 'j']"
      ]
     },
     "execution_count": 96,
     "metadata": {},
     "output_type": "execute_result"
    }
   ],
   "source": [
    "new_list[2:]"
   ]
  },
  {
   "cell_type": "code",
   "execution_count": 97,
   "metadata": {},
   "outputs": [
    {
     "data": {
      "text/plain": [
       "['a', 'b', 'c', 'd', 'e']"
      ]
     },
     "execution_count": 97,
     "metadata": {},
     "output_type": "execute_result"
    }
   ],
   "source": [
    "new_list[:5]"
   ]
  },
  {
   "cell_type": "code",
   "execution_count": 98,
   "metadata": {},
   "outputs": [
    {
     "data": {
      "text/plain": [
       "'j'"
      ]
     },
     "execution_count": 98,
     "metadata": {},
     "output_type": "execute_result"
    }
   ],
   "source": [
    "new_list[-1]"
   ]
  },
  {
   "cell_type": "code",
   "execution_count": 99,
   "metadata": {},
   "outputs": [
    {
     "data": {
      "text/plain": [
       "['a', 'b', 'c', 'd', 'e', 'f', 'g', 'h', 'i', 'j']"
      ]
     },
     "execution_count": 99,
     "metadata": {},
     "output_type": "execute_result"
    }
   ],
   "source": [
    "new_list"
   ]
  },
  {
   "cell_type": "code",
   "execution_count": 100,
   "metadata": {},
   "outputs": [
    {
     "data": {
      "text/plain": [
       "['c', 'd', 'e']"
      ]
     },
     "execution_count": 100,
     "metadata": {},
     "output_type": "execute_result"
    }
   ],
   "source": [
    "new_list[2:5]"
   ]
  },
  {
   "cell_type": "code",
   "execution_count": 101,
   "metadata": {},
   "outputs": [
    {
     "data": {
      "text/plain": [
       "['a', 'b', 'c', 'd', 'e']"
      ]
     },
     "execution_count": 101,
     "metadata": {},
     "output_type": "execute_result"
    }
   ],
   "source": [
    "new_list[:5]"
   ]
  },
  {
   "cell_type": "code",
   "execution_count": 102,
   "metadata": {},
   "outputs": [
    {
     "data": {
      "text/plain": [
       "['b', 'c', 'd', 'e', 'f', 'g', 'h', 'i', 'j']"
      ]
     },
     "execution_count": 102,
     "metadata": {},
     "output_type": "execute_result"
    }
   ],
   "source": [
    "new_list[1:]"
   ]
  },
  {
   "cell_type": "code",
   "execution_count": 103,
   "metadata": {},
   "outputs": [
    {
     "data": {
      "text/plain": [
       "['a', 'b', 'c', 'd', 'e', 'f', 'g', 'h', 'i', 'j']"
      ]
     },
     "execution_count": 103,
     "metadata": {},
     "output_type": "execute_result"
    }
   ],
   "source": [
    "new_list"
   ]
  },
  {
   "cell_type": "code",
   "execution_count": 104,
   "metadata": {},
   "outputs": [
    {
     "data": {
      "text/plain": [
       "['a', 'c', 'e', 'g', 'i']"
      ]
     },
     "execution_count": 104,
     "metadata": {},
     "output_type": "execute_result"
    }
   ],
   "source": [
    "new_list[0:10:2] #- Start:stop:step"
   ]
  },
  {
   "cell_type": "code",
   "execution_count": 105,
   "metadata": {},
   "outputs": [],
   "source": [
    "# first element=new_list[start]\n",
    "# second element=new_list[start+step]\n",
    "# third element=new_list[second+step]\n",
    "\n",
    "#0,\n",
    "#0+2=2,\n",
    "#2+2=4,\n",
    "#4+2=6,\n",
    "#6+2=8"
   ]
  },
  {
   "cell_type": "code",
   "execution_count": 106,
   "metadata": {},
   "outputs": [
    {
     "data": {
      "text/plain": [
       "['a', 'c', 'e', 'g', 'i']"
      ]
     },
     "execution_count": 106,
     "metadata": {},
     "output_type": "execute_result"
    }
   ],
   "source": [
    "new_list[::2]"
   ]
  },
  {
   "cell_type": "code",
   "execution_count": 108,
   "metadata": {},
   "outputs": [
    {
     "data": {
      "text/plain": [
       "['j', 'i', 'h', 'g', 'f', 'e', 'd', 'c', 'b', 'a']"
      ]
     },
     "execution_count": 108,
     "metadata": {},
     "output_type": "execute_result"
    }
   ],
   "source": [
    "#reversing the list\n",
    "new_list[::-1]"
   ]
  },
  {
   "cell_type": "code",
   "execution_count": 110,
   "metadata": {},
   "outputs": [
    {
     "data": {
      "text/plain": [
       "['b', 'e', 'h']"
      ]
     },
     "execution_count": 110,
     "metadata": {},
     "output_type": "execute_result"
    }
   ],
   "source": [
    "# ## if step is positive 1,2,3,...\n",
    "# - start index should be on the left of stop index\n",
    "# - start<stop\n",
    "new_list[2:9:3]\n",
    "new_list[-9:-2:3]"
   ]
  },
  {
   "cell_type": "code",
   "execution_count": 112,
   "metadata": {},
   "outputs": [
    {
     "data": {
      "text/plain": [
       "['i', 'f', 'c']"
      ]
     },
     "execution_count": 112,
     "metadata": {},
     "output_type": "execute_result"
    }
   ],
   "source": [
    "# if the step is negative -1,-2,-3,...\n",
    "# - start index should be on the right of stop index\n",
    "# - start>stop\n",
    "new_list[9:2:-3]\n",
    "new_list[-2:-9:-3]"
   ]
  },
  {
   "cell_type": "code",
   "execution_count": 113,
   "metadata": {},
   "outputs": [
    {
     "data": {
      "text/plain": [
       "['a', 'b', 'c', 'd', 'e', 'f', 'g', 'h', 'i', 'j']"
      ]
     },
     "execution_count": 113,
     "metadata": {},
     "output_type": "execute_result"
    }
   ],
   "source": [
    "new_list"
   ]
  },
  {
   "cell_type": "code",
   "execution_count": 114,
   "metadata": {},
   "outputs": [
    {
     "data": {
      "text/plain": [
       "['j', 'i', 'h', 'g', 'f', 'e', 'd']"
      ]
     },
     "execution_count": 114,
     "metadata": {},
     "output_type": "execute_result"
    }
   ],
   "source": [
    "new_list[9:2:-1]"
   ]
  },
  {
   "cell_type": "code",
   "execution_count": 115,
   "metadata": {},
   "outputs": [
    {
     "name": "stdout",
     "output_type": "stream",
     "text": [
      "['__add__', '__class__', '__class_getitem__', '__contains__', '__delattr__', '__delitem__', '__dir__', '__doc__', '__eq__', '__format__', '__ge__', '__getattribute__', '__getitem__', '__gt__', '__hash__', '__iadd__', '__imul__', '__init__', '__init_subclass__', '__iter__', '__le__', '__len__', '__lt__', '__mul__', '__ne__', '__new__', '__reduce__', '__reduce_ex__', '__repr__', '__reversed__', '__rmul__', '__setattr__', '__setitem__', '__sizeof__', '__str__', '__subclasshook__', 'append', 'clear', 'copy', 'count', 'extend', 'index', 'insert', 'pop', 'remove', 'reverse', 'sort']\n"
     ]
    }
   ],
   "source": [
    "print(dir(basket_list))"
   ]
  },
  {
   "cell_type": "code",
   "execution_count": 116,
   "metadata": {},
   "outputs": [],
   "source": [
    "#adding elements\n",
    "# 1. append - adds one element at the end of the list\n",
    "# 2. extend - adds multiple elements at the end of the list\n",
    "# 3. insert - adds one element at a given position"
   ]
  },
  {
   "cell_type": "code",
   "execution_count": 117,
   "metadata": {},
   "outputs": [
    {
     "data": {
      "text/plain": [
       "[1, 'a', 2, 'b', 3, 'c', 4, 'd', 5, 'e', 6, 'f']"
      ]
     },
     "execution_count": 117,
     "metadata": {},
     "output_type": "execute_result"
    }
   ],
   "source": [
    "alist"
   ]
  },
  {
   "cell_type": "code",
   "execution_count": 118,
   "metadata": {},
   "outputs": [
    {
     "name": "stdout",
     "output_type": "stream",
     "text": [
      "Before append \n",
      "[1, 'a', 2, 'b', 3, 'c', 4, 'd', 5, 'e', 6, 'f']\n",
      "After append \n",
      " [1, 'a', 2, 'b', 3, 'c', 4, 'd', 5, 'e', 6, 'f', 7]\n"
     ]
    }
   ],
   "source": [
    "#append\n",
    "print('Before append \\n{}'.format(alist))\n",
    "alist.append(7)\n",
    "print('After append \\n {}'.format(alist))"
   ]
  },
  {
   "cell_type": "code",
   "execution_count": 119,
   "metadata": {},
   "outputs": [
    {
     "data": {
      "text/plain": [
       "[1, 'a', 2, 'b', 3, 'c', 4, 'd', 5, 'e', 6, 'f', 7]"
      ]
     },
     "execution_count": 119,
     "metadata": {},
     "output_type": "execute_result"
    }
   ],
   "source": [
    "alist"
   ]
  },
  {
   "cell_type": "code",
   "execution_count": 120,
   "metadata": {},
   "outputs": [
    {
     "name": "stdout",
     "output_type": "stream",
     "text": [
      "Before append \n",
      "[1, 'a', 2, 'b', 3, 'c', 4, 'd', 5, 'e', 6, 'f', 7]\n",
      "After append \n",
      " [1, 'a', 2, 'b', 3, 'c', 4, 'd', 5, 'e', 6, 'f', 7, [7, 'g']]\n"
     ]
    }
   ],
   "source": [
    "#append\n",
    "print('Before append \\n{}'.format(alist))\n",
    "alist.append([7,'g'])\n",
    "print('After append \\n {}'.format(alist))"
   ]
  },
  {
   "cell_type": "code",
   "execution_count": 121,
   "metadata": {},
   "outputs": [
    {
     "name": "stdout",
     "output_type": "stream",
     "text": [
      "Before extend \n",
      "[1, 'a', 2, 'b', 3, 'c', 4, 'd', 5, 'e', 6, 'f', 7, [7, 'g']]\n",
      "After extend \n",
      " [1, 'a', 2, 'b', 3, 'c', 4, 'd', 5, 'e', 6, 'f', 7, [7, 'g'], 7, 'g']\n"
     ]
    }
   ],
   "source": [
    "#extend\n",
    "print('Before extend \\n{}'.format(alist))\n",
    "alist.extend([7,'g'])\n",
    "print('After extend \\n {}'.format(alist))"
   ]
  },
  {
   "cell_type": "code",
   "execution_count": 122,
   "metadata": {},
   "outputs": [
    {
     "name": "stdout",
     "output_type": "stream",
     "text": [
      "Before insert \n",
      "[1, 'a', 2, 'b', 3, 'c', 4, 'd', 5, 'e', 6, 'f', 7, [7, 'g'], 7, 'g']\n",
      "After insert \n",
      " [1, 'a', 2, 'text', 'b', 3, 'c', 4, 'd', 5, 'e', 6, 'f', 7, [7, 'g'], 7, 'g']\n"
     ]
    }
   ],
   "source": [
    "#insert\n",
    "print('Before insert \\n{}'.format(alist))\n",
    "alist.insert(3,'text')\n",
    "print('After insert \\n {}'.format(alist))"
   ]
  },
  {
   "cell_type": "code",
   "execution_count": 123,
   "metadata": {},
   "outputs": [],
   "source": [
    "alist[3:5]=['t','o']"
   ]
  },
  {
   "cell_type": "code",
   "execution_count": 124,
   "metadata": {},
   "outputs": [
    {
     "data": {
      "text/plain": [
       "[1, 'a', 2, 't', 'o', 3, 'c', 4, 'd', 5, 'e', 6, 'f', 7, [7, 'g'], 7, 'g']"
      ]
     },
     "execution_count": 124,
     "metadata": {},
     "output_type": "execute_result"
    }
   ],
   "source": [
    "alist"
   ]
  },
  {
   "cell_type": "code",
   "execution_count": 125,
   "metadata": {},
   "outputs": [],
   "source": [
    "a=[0,1,2,3]\n",
    "a[4:5]=['t','o']"
   ]
  },
  {
   "cell_type": "code",
   "execution_count": 126,
   "metadata": {},
   "outputs": [
    {
     "data": {
      "text/plain": [
       "[0, 1, 2, 3, 't', 'o']"
      ]
     },
     "execution_count": 126,
     "metadata": {},
     "output_type": "execute_result"
    }
   ],
   "source": [
    "a"
   ]
  },
  {
   "cell_type": "code",
   "execution_count": 127,
   "metadata": {},
   "outputs": [
    {
     "name": "stdout",
     "output_type": "stream",
     "text": [
      "['apples', 'milk', 'eggs', 'jam', 'curd', 'coconut', 'cream', 'mayo', 'cheese', 'milk', 'almonds', 'grapes', 'apples', 'oranges', 'coconut', 'bread', 'butter', 'jam']\n"
     ]
    }
   ],
   "source": [
    "# Removing elements\n",
    "# 1. remove: removing the first occurrence of the given element (one element at a time)\n",
    "# 2. pop: pops out the element at a particular position\n",
    "print(basket_list)"
   ]
  },
  {
   "cell_type": "code",
   "execution_count": 128,
   "metadata": {},
   "outputs": [
    {
     "name": "stdout",
     "output_type": "stream",
     "text": [
      "Before remove jam:\n",
      "['apples', 'milk', 'eggs', 'jam', 'curd', 'coconut', 'cream', 'mayo', 'cheese', 'milk', 'almonds', 'grapes', 'apples', 'oranges', 'coconut', 'bread', 'butter', 'jam']\n",
      "After remove jam:\n",
      "['apples', 'milk', 'eggs', 'curd', 'coconut', 'cream', 'mayo', 'cheese', 'milk', 'almonds', 'grapes', 'apples', 'oranges', 'coconut', 'bread', 'butter', 'jam']\n"
     ]
    }
   ],
   "source": [
    "#remove\n",
    "print('Before remove jam:\\n{}'.format(basket_list))\n",
    "basket_list.remove('jam')\n",
    "print('After remove jam:\\n{}'.format(basket_list))"
   ]
  },
  {
   "cell_type": "code",
   "execution_count": 129,
   "metadata": {},
   "outputs": [
    {
     "data": {
      "text/plain": [
       "2"
      ]
     },
     "execution_count": 129,
     "metadata": {},
     "output_type": "execute_result"
    }
   ],
   "source": [
    "basket_list.count('coconut')"
   ]
  },
  {
   "cell_type": "code",
   "execution_count": 130,
   "metadata": {},
   "outputs": [
    {
     "name": "stdout",
     "output_type": "stream",
     "text": [
      "Before pop pos=4\n",
      "['apples', 'milk', 'eggs', 'curd', 'coconut', 'cream', 'mayo', 'cheese', 'milk', 'almonds', 'grapes', 'apples', 'oranges', 'coconut', 'bread', 'butter', 'jam']\n",
      "After pop pos=4:\n",
      "['apples', 'milk', 'eggs', 'curd', 'cream', 'mayo', 'cheese', 'milk', 'almonds', 'grapes', 'apples', 'oranges', 'coconut', 'bread', 'butter', 'jam']\n"
     ]
    }
   ],
   "source": [
    "#pop\n",
    "print('Before pop pos=4\\n{}'.format(basket_list))\n",
    "basket_list.pop(4)\n",
    "print('After pop pos=4:\\n{}'.format(basket_list))"
   ]
  },
  {
   "cell_type": "code",
   "execution_count": 131,
   "metadata": {},
   "outputs": [
    {
     "name": "stdout",
     "output_type": "stream",
     "text": [
      "['apples', 'milk', 'eggs', 'curd', 'cream', 'mayo', 'cheese', 'milk', 'almonds', 'grapes', 'apples', 'oranges', 'coconut', 'bread', 'butter', 'jam']\n"
     ]
    }
   ],
   "source": [
    "print(basket_list)"
   ]
  },
  {
   "cell_type": "code",
   "execution_count": 132,
   "metadata": {},
   "outputs": [
    {
     "data": {
      "text/plain": [
       "12"
      ]
     },
     "execution_count": 132,
     "metadata": {},
     "output_type": "execute_result"
    }
   ],
   "source": [
    "#how to find out the location of an element\n",
    "# - index: giving you the index for the first occurrence\n",
    "basket_list.index('coconut') # first occurrence"
   ]
  },
  {
   "cell_type": "code",
   "execution_count": 133,
   "metadata": {},
   "outputs": [
    {
     "name": "stdout",
     "output_type": "stream",
     "text": [
      "['apples', 'milk', 'eggs', 'curd', 'cream', 'mayo', 'cheese', 'milk', 'almonds', 'grapes', 'apples', 'oranges', 'coconut', 'bread', 'butter', 'jam']\n"
     ]
    }
   ],
   "source": [
    "print(basket_list)"
   ]
  },
  {
   "cell_type": "code",
   "execution_count": 134,
   "metadata": {},
   "outputs": [
    {
     "data": {
      "text/plain": [
       "7"
      ]
     },
     "execution_count": 134,
     "metadata": {},
     "output_type": "execute_result"
    }
   ],
   "source": [
    "basket_list.index('milk',5) # true position of first occurence of the element if occuring after the 5th index"
   ]
  },
  {
   "cell_type": "code",
   "execution_count": 135,
   "metadata": {},
   "outputs": [
    {
     "name": "stdout",
     "output_type": "stream",
     "text": [
      "['apples', 'milk', 'eggs', 'curd', 'cream', 'mayo', 'cheese', 'milk', 'almonds', 'grapes', 'apples', 'oranges', 'coconut', 'bread', 'butter', 'jam']\n"
     ]
    }
   ],
   "source": [
    "print(basket_list)"
   ]
  },
  {
   "cell_type": "code",
   "execution_count": 136,
   "metadata": {},
   "outputs": [
    {
     "data": {
      "text/plain": [
       "5"
      ]
     },
     "execution_count": 136,
     "metadata": {},
     "output_type": "execute_result"
    }
   ],
   "source": [
    "basket_list.index('mayo',2,6) #2 -start index position; 6 - stop index position"
   ]
  },
  {
   "cell_type": "code",
   "execution_count": 137,
   "metadata": {},
   "outputs": [],
   "source": [
    "example_list = [23, 47, 21, 32, 23, 32, 67, 21, 67, 89, 90, 47, 23, 67, 54, 23]"
   ]
  },
  {
   "cell_type": "code",
   "execution_count": 138,
   "metadata": {},
   "outputs": [
    {
     "data": {
      "text/plain": [
       "4"
      ]
     },
     "execution_count": 138,
     "metadata": {},
     "output_type": "execute_result"
    }
   ],
   "source": [
    "example_list.count(23)"
   ]
  },
  {
   "cell_type": "code",
   "execution_count": 139,
   "metadata": {},
   "outputs": [
    {
     "data": {
      "text/plain": [
       "0"
      ]
     },
     "execution_count": 139,
     "metadata": {},
     "output_type": "execute_result"
    }
   ],
   "source": [
    "example_list.index(23) #very first occurrence"
   ]
  },
  {
   "cell_type": "code",
   "execution_count": 141,
   "metadata": {},
   "outputs": [
    {
     "data": {
      "text/plain": [
       "12"
      ]
     },
     "execution_count": 141,
     "metadata": {},
     "output_type": "execute_result"
    }
   ],
   "source": [
    "example_list.index(23,5)"
   ]
  },
  {
   "cell_type": "code",
   "execution_count": 142,
   "metadata": {},
   "outputs": [
    {
     "data": {
      "text/plain": [
       "4"
      ]
     },
     "execution_count": 142,
     "metadata": {},
     "output_type": "execute_result"
    }
   ],
   "source": [
    "example_list.index(23,3,9)"
   ]
  },
  {
   "cell_type": "code",
   "execution_count": 143,
   "metadata": {},
   "outputs": [
    {
     "name": "stdout",
     "output_type": "stream",
     "text": [
      "[1, 'a', 2, 't', 'o', 3, 'c', 4, 'd', 5, 'e', 6, 'f', 7, [7, 'g'], 7, 'g']\n"
     ]
    }
   ],
   "source": [
    "print(alist)"
   ]
  },
  {
   "cell_type": "code",
   "execution_count": 144,
   "metadata": {},
   "outputs": [
    {
     "name": "stdout",
     "output_type": "stream",
     "text": [
      "Before reverse \n",
      "[1, 'a', 2, 't', 'o', 3, 'c', 4, 'd', 5, 'e', 6, 'f', 7, [7, 'g'], 7, 'g']\n",
      "After reverse\n",
      "['g', 7, [7, 'g'], 7, 'f', 6, 'e', 5, 'd', 4, 'c', 3, 'o', 't', 2, 'a', 1]\n"
     ]
    }
   ],
   "source": [
    "#reverse: reverses the list\n",
    "print('Before reverse \\n{}'.format(alist))\n",
    "alist.reverse()\n",
    "print('After reverse\\n{}'.format(alist))"
   ]
  },
  {
   "cell_type": "code",
   "execution_count": 145,
   "metadata": {},
   "outputs": [
    {
     "name": "stdout",
     "output_type": "stream",
     "text": [
      "Before sort \n",
      "['apples', 'milk', 'eggs', 'curd', 'cream', 'mayo', 'cheese', 'milk', 'almonds', 'grapes', 'apples', 'oranges', 'coconut', 'bread', 'butter', 'jam']\n",
      "After sort\n",
      "['almonds', 'apples', 'apples', 'bread', 'butter', 'cheese', 'coconut', 'cream', 'curd', 'eggs', 'grapes', 'jam', 'mayo', 'milk', 'milk', 'oranges']\n"
     ]
    }
   ],
   "source": [
    "#sort : sorts the list in ascending order or desc, by default in asc\n",
    "# - the list should be homogeneous and constiting of either numbers or strings\n",
    "#asc order\n",
    "print('Before sort \\n{}'.format(basket_list))\n",
    "basket_list.sort()\n",
    "print('After sort\\n{}'.format(basket_list))"
   ]
  },
  {
   "cell_type": "code",
   "execution_count": 146,
   "metadata": {},
   "outputs": [
    {
     "name": "stdout",
     "output_type": "stream",
     "text": [
      "Before sort \n",
      "['almonds', 'apples', 'apples', 'bread', 'butter', 'cheese', 'coconut', 'cream', 'curd', 'eggs', 'grapes', 'jam', 'mayo', 'milk', 'milk', 'oranges']\n",
      "After sort\n",
      "['oranges', 'milk', 'milk', 'mayo', 'jam', 'grapes', 'eggs', 'curd', 'cream', 'coconut', 'cheese', 'butter', 'bread', 'apples', 'apples', 'almonds']\n"
     ]
    }
   ],
   "source": [
    "#desc order\n",
    "print('Before sort \\n{}'.format(basket_list))\n",
    "basket_list.sort(reverse=True)\n",
    "print('After sort\\n{}'.format(basket_list))"
   ]
  },
  {
   "cell_type": "code",
   "execution_count": 147,
   "metadata": {},
   "outputs": [],
   "source": [
    "l1 = [34, 54.88, 12, True, False, False, -45, -90.11]"
   ]
  },
  {
   "cell_type": "code",
   "execution_count": 150,
   "metadata": {},
   "outputs": [
    {
     "name": "stdout",
     "output_type": "stream",
     "text": [
      "Before sort \n",
      "[54.88, 34, 12, True, False, False, -45, -90.11]\n",
      "After sort\n",
      "[54.88, 34, 12, True, False, False, -45, -90.11]\n"
     ]
    }
   ],
   "source": [
    "print('Before sort \\n{}'.format(l1))\n",
    "l1.sort(reverse=True)\n",
    "print('After sort\\n{}'.format(l1))"
   ]
  },
  {
   "cell_type": "code",
   "execution_count": 151,
   "metadata": {},
   "outputs": [],
   "source": [
    "#copy\n",
    "l2=['apples','oranges','grapes',10,20,30]"
   ]
  },
  {
   "cell_type": "code",
   "execution_count": 152,
   "metadata": {},
   "outputs": [],
   "source": [
    "#shallow copy - reference\n",
    "l2_copy=l2"
   ]
  },
  {
   "cell_type": "code",
   "execution_count": 153,
   "metadata": {},
   "outputs": [
    {
     "name": "stdout",
     "output_type": "stream",
     "text": [
      "['apples', 'oranges', 'grapes', 10, 20, 30]\n",
      "['apples', 'oranges', 'grapes', 10, 20, 30]\n"
     ]
    }
   ],
   "source": [
    "print(l2_copy)\n",
    "print(l2)"
   ]
  },
  {
   "cell_type": "code",
   "execution_count": 154,
   "metadata": {},
   "outputs": [],
   "source": [
    "l2_copy[2]='pear'"
   ]
  },
  {
   "cell_type": "code",
   "execution_count": 155,
   "metadata": {},
   "outputs": [],
   "source": [
    "#deep copy - actual copy\n",
    "l2_deep_copy=l2.copy()"
   ]
  },
  {
   "cell_type": "code",
   "execution_count": 156,
   "metadata": {},
   "outputs": [],
   "source": [
    "l2_deep_copy[2]='grapes'"
   ]
  },
  {
   "cell_type": "code",
   "execution_count": 157,
   "metadata": {},
   "outputs": [
    {
     "name": "stdout",
     "output_type": "stream",
     "text": [
      "['apples', 'oranges', 'grapes', 10, 20, 30]\n",
      "['apples', 'oranges', 'pear', 10, 20, 30]\n"
     ]
    }
   ],
   "source": [
    "print(l2_deep_copy)\n",
    "print(l2)"
   ]
  },
  {
   "cell_type": "code",
   "execution_count": 158,
   "metadata": {},
   "outputs": [],
   "source": [
    "#use of arith operators\n",
    "list_1=[23,45,78]\n",
    "list_2=['a','b','c']"
   ]
  },
  {
   "cell_type": "code",
   "execution_count": 159,
   "metadata": {},
   "outputs": [],
   "source": [
    "new=list_1+list_2"
   ]
  },
  {
   "cell_type": "code",
   "execution_count": 160,
   "metadata": {},
   "outputs": [
    {
     "data": {
      "text/plain": [
       "[23, 45, 78, 'a', 'b', 'c']"
      ]
     },
     "execution_count": 160,
     "metadata": {},
     "output_type": "execute_result"
    }
   ],
   "source": [
    "new"
   ]
  },
  {
   "cell_type": "code",
   "execution_count": 161,
   "metadata": {},
   "outputs": [
    {
     "data": {
      "text/plain": [
       "[23, 45, 78, 23, 45, 78, 23, 45, 78]"
      ]
     },
     "execution_count": 161,
     "metadata": {},
     "output_type": "execute_result"
    }
   ],
   "source": [
    "list_1*3 #repetition"
   ]
  },
  {
   "cell_type": "markdown",
   "metadata": {},
   "source": [
    "- Tuples"
   ]
  },
  {
   "cell_type": "code",
   "execution_count": 162,
   "metadata": {},
   "outputs": [],
   "source": [
    "# - ordered, immutable collection of data"
   ]
  },
  {
   "cell_type": "code",
   "execution_count": 163,
   "metadata": {},
   "outputs": [],
   "source": [
    "empty_tuple=() #tuple()\n",
    "tup_1=(2,)\n",
    "tup_11=(23,)\n",
    "basket_tup = ('oranges', 'milk', 'milk', 'mayo', 'jam', 'jam', 'grapes', 'eggs', 'curd', 'cream', \n",
    "'coconut', 'coconut', 'cheese', 'butter', 'bread', 'apples', 'apples', 'almonds')\n",
    "mix_tup = (['emma', 23], 45, {'oranges', 'apples', 'grapes'},(34,67))"
   ]
  },
  {
   "cell_type": "code",
   "execution_count": 164,
   "metadata": {},
   "outputs": [
    {
     "name": "stdout",
     "output_type": "stream",
     "text": [
      "Empty tuple: () class of the tuple: <class 'tuple'>\n",
      "Tup_1:\n",
      " (2,) \n",
      "class of the tuple: <class 'tuple'>\n",
      "Tup 11:\n",
      " (23,) \n",
      "class of the tuple: <class 'tuple'>\n",
      "Mix tup:\n",
      " (['emma', 23], 45, {'oranges', 'apples', 'grapes'}, (34, 67)) \n",
      "class: <class 'tuple'>\n"
     ]
    }
   ],
   "source": [
    "print('Empty tuple: {} class of the tuple: {}'.format(empty_tuple,type(empty_tuple)))\n",
    "print('Tup_1:\\n {} \\nclass of the tuple: {}'.format(tup_1,type(tup_1)))\n",
    "print('Tup 11:\\n {} \\nclass of the tuple: {}'.format(tup_11,type(tup_11)))\n",
    "print('Mix tup:\\n {} \\nclass: {}'.format(mix_tup,type(mix_tup)))"
   ]
  }
 ],
 "metadata": {
  "kernelspec": {
   "display_name": "Python 3 (ipykernel)",
   "language": "python",
   "name": "python3"
  },
  "language_info": {
   "codemirror_mode": {
    "name": "ipython",
    "version": 3
   },
   "file_extension": ".py",
   "mimetype": "text/x-python",
   "name": "python",
   "nbconvert_exporter": "python",
   "pygments_lexer": "ipython3",
   "version": "3.9.11"
  }
 },
 "nbformat": 4,
 "nbformat_minor": 4
}
