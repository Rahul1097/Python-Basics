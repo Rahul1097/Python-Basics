{
 "cells": [
  {
   "cell_type": "code",
   "execution_count": 1,
   "metadata": {},
   "outputs": [],
   "source": [
    "#Tuples"
   ]
  },
  {
   "cell_type": "code",
   "execution_count": 2,
   "metadata": {},
   "outputs": [],
   "source": [
    "import timeit"
   ]
  },
  {
   "cell_type": "code",
   "execution_count": 3,
   "metadata": {},
   "outputs": [
    {
     "data": {
      "text/plain": [
       "0.024435400000129448"
      ]
     },
     "execution_count": 3,
     "metadata": {},
     "output_type": "execute_result"
    }
   ],
   "source": [
    "#tuple with one element\n",
    "timeit.timeit('(1,)')"
   ]
  },
  {
   "cell_type": "code",
   "execution_count": 4,
   "metadata": {},
   "outputs": [
    {
     "data": {
      "text/plain": [
       "0.11911959999997634"
      ]
     },
     "execution_count": 4,
     "metadata": {},
     "output_type": "execute_result"
    }
   ],
   "source": [
    "#list with one element\n",
    "timeit.timeit('[1]')"
   ]
  },
  {
   "cell_type": "code",
   "execution_count": 5,
   "metadata": {},
   "outputs": [],
   "source": [
    "tuple=(1,2,3)"
   ]
  },
  {
   "cell_type": "code",
   "execution_count": 6,
   "metadata": {},
   "outputs": [
    {
     "data": {
      "text/plain": [
       "48"
      ]
     },
     "execution_count": 6,
     "metadata": {},
     "output_type": "execute_result"
    }
   ],
   "source": [
    "tuple.__sizeof__() #returns the result in bytes"
   ]
  },
  {
   "cell_type": "code",
   "execution_count": 7,
   "metadata": {},
   "outputs": [],
   "source": [
    "list=[1,2,3]"
   ]
  },
  {
   "cell_type": "code",
   "execution_count": 8,
   "metadata": {},
   "outputs": [
    {
     "data": {
      "text/plain": [
       "104"
      ]
     },
     "execution_count": 8,
     "metadata": {},
     "output_type": "execute_result"
    }
   ],
   "source": [
    "list.__sizeof__()"
   ]
  },
  {
   "cell_type": "code",
   "execution_count": 9,
   "metadata": {},
   "outputs": [],
   "source": [
    "tuple=(1,)"
   ]
  },
  {
   "cell_type": "code",
   "execution_count": 10,
   "metadata": {},
   "outputs": [
    {
     "data": {
      "text/plain": [
       "tuple"
      ]
     },
     "execution_count": 10,
     "metadata": {},
     "output_type": "execute_result"
    }
   ],
   "source": [
    "type(tuple)"
   ]
  },
  {
   "cell_type": "code",
   "execution_count": 11,
   "metadata": {},
   "outputs": [
    {
     "data": {
      "text/plain": [
       "([10, 20], 30, {40, 'True', 'apple'})"
      ]
     },
     "execution_count": 11,
     "metadata": {},
     "output_type": "execute_result"
    }
   ],
   "source": [
    "mixt_tuple=([10,20],30,{'apple',40,'True'})\n",
    "mixt_tuple"
   ]
  },
  {
   "cell_type": "code",
   "execution_count": 12,
   "metadata": {},
   "outputs": [
    {
     "ename": "TypeError",
     "evalue": "'set' object is not subscriptable",
     "output_type": "error",
     "traceback": [
      "\u001b[1;31m---------------------------------------------------------------------------\u001b[0m",
      "\u001b[1;31mTypeError\u001b[0m                                 Traceback (most recent call last)",
      "Input \u001b[1;32mIn [12]\u001b[0m, in \u001b[0;36m<cell line: 1>\u001b[1;34m()\u001b[0m\n\u001b[1;32m----> 1\u001b[0m \u001b[43mmixt_tuple\u001b[49m\u001b[43m[\u001b[49m\u001b[38;5;241;43m2\u001b[39;49m\u001b[43m]\u001b[49m\u001b[43m[\u001b[49m\u001b[38;5;241;43m1\u001b[39;49m\u001b[43m]\u001b[49m\n",
      "\u001b[1;31mTypeError\u001b[0m: 'set' object is not subscriptable"
     ]
    }
   ],
   "source": [
    "mixt_tuple[2][1]"
   ]
  },
  {
   "cell_type": "code",
   "execution_count": 13,
   "metadata": {},
   "outputs": [
    {
     "data": {
      "text/plain": [
       "([10, 20], 30, {40, 'True', 'apple'})"
      ]
     },
     "execution_count": 13,
     "metadata": {},
     "output_type": "execute_result"
    }
   ],
   "source": [
    "mixt_tuple"
   ]
  },
  {
   "cell_type": "code",
   "execution_count": 14,
   "metadata": {},
   "outputs": [
    {
     "data": {
      "text/plain": [
       "([10, 20, 'append'], 30, {40, 'True', 'apple'})"
      ]
     },
     "execution_count": 14,
     "metadata": {},
     "output_type": "execute_result"
    }
   ],
   "source": [
    "mixt_tuple[0].append('append')\n",
    "mixt_tuple"
   ]
  },
  {
   "cell_type": "markdown",
   "metadata": {},
   "source": [
    "## Dictionaries"
   ]
  },
  {
   "cell_type": "markdown",
   "metadata": {},
   "source": [
    "#Dictionaries: unordered collection of key-value pairs\n",
    "- keys are separated from values using :\n",
    "- 1 key-value pair is 1item/element. Elements are separated by comma.\n",
    "- keys should be immutable objects (numbers, strings and tuples) and unique.\n",
    "- values can be: numbers, strings, list, tuples"
   ]
  },
  {
   "cell_type": "code",
   "execution_count": 15,
   "metadata": {},
   "outputs": [
    {
     "data": {
      "text/plain": [
       "dict"
      ]
     },
     "execution_count": 15,
     "metadata": {},
     "output_type": "execute_result"
    }
   ],
   "source": [
    "empty_dict={} #dict()\n",
    "type(empty_dict)"
   ]
  },
  {
   "cell_type": "code",
   "execution_count": 16,
   "metadata": {},
   "outputs": [
    {
     "data": {
      "text/plain": [
       "dict"
      ]
     },
     "execution_count": 16,
     "metadata": {},
     "output_type": "execute_result"
    }
   ],
   "source": [
    "dict={1:'a'}\n",
    "type(dict)"
   ]
  },
  {
   "cell_type": "code",
   "execution_count": 17,
   "metadata": {},
   "outputs": [],
   "source": [
    "set={1,2,3}"
   ]
  },
  {
   "cell_type": "code",
   "execution_count": 18,
   "metadata": {},
   "outputs": [
    {
     "data": {
      "text/plain": [
       "set"
      ]
     },
     "execution_count": 18,
     "metadata": {},
     "output_type": "execute_result"
    }
   ],
   "source": [
    "type(set)"
   ]
  },
  {
   "cell_type": "code",
   "execution_count": 19,
   "metadata": {},
   "outputs": [],
   "source": [
    "dict1={1:'a',2:'b',3:'c','d':4,5.1:'e1'}"
   ]
  },
  {
   "cell_type": "code",
   "execution_count": 20,
   "metadata": {},
   "outputs": [
    {
     "name": "stdout",
     "output_type": "stream",
     "text": [
      "Dict1: {1: 'a', 2: 'b', 3: 'c', 'd': 4, 5.1: 'e1'} <class 'dict'>\n"
     ]
    }
   ],
   "source": [
    "print('Dict1:', dict1,type(dict1))\n",
    "# Keys:values\n"
   ]
  },
  {
   "cell_type": "code",
   "execution_count": 21,
   "metadata": {},
   "outputs": [],
   "source": [
    "#the keys are the indexes"
   ]
  },
  {
   "cell_type": "code",
   "execution_count": 22,
   "metadata": {},
   "outputs": [
    {
     "data": {
      "text/plain": [
       "dict_keys([1, 2, 3, 'd', 5.1])"
      ]
     },
     "execution_count": 22,
     "metadata": {},
     "output_type": "execute_result"
    }
   ],
   "source": [
    "dict1.keys()"
   ]
  },
  {
   "cell_type": "code",
   "execution_count": 23,
   "metadata": {},
   "outputs": [
    {
     "data": {
      "text/plain": [
       "dict_values(['a', 'b', 'c', 4, 'e1'])"
      ]
     },
     "execution_count": 23,
     "metadata": {},
     "output_type": "execute_result"
    }
   ],
   "source": [
    "dict1.values()"
   ]
  },
  {
   "cell_type": "code",
   "execution_count": 24,
   "metadata": {},
   "outputs": [
    {
     "data": {
      "text/plain": [
       "{(35, 67): 78}"
      ]
     },
     "execution_count": 24,
     "metadata": {},
     "output_type": "execute_result"
    }
   ],
   "source": [
    "dict2={(35,67):78}\n",
    "dict2"
   ]
  },
  {
   "cell_type": "code",
   "execution_count": 25,
   "metadata": {},
   "outputs": [],
   "source": [
    "d={('City','Romania'):[23,50,40,50],('City','India'):[39,69,80,60]}"
   ]
  },
  {
   "cell_type": "code",
   "execution_count": 26,
   "metadata": {},
   "outputs": [
    {
     "data": {
      "text/plain": [
       "dict_keys([('City', 'Romania'), ('City', 'India')])"
      ]
     },
     "execution_count": 26,
     "metadata": {},
     "output_type": "execute_result"
    }
   ],
   "source": [
    "d.keys()"
   ]
  },
  {
   "cell_type": "code",
   "execution_count": 28,
   "metadata": {},
   "outputs": [],
   "source": [
    "#access an element\n",
    "employee={'Name':'Ramesh','Age':30,'Exp':7}"
   ]
  },
  {
   "cell_type": "code",
   "execution_count": 29,
   "metadata": {},
   "outputs": [
    {
     "name": "stdout",
     "output_type": "stream",
     "text": [
      "Ramesh\n"
     ]
    }
   ],
   "source": [
    "print(employee['Name'])"
   ]
  },
  {
   "cell_type": "code",
   "execution_count": 30,
   "metadata": {},
   "outputs": [
    {
     "data": {
      "text/plain": [
       "{'Name': 'Mr Sham', 'Age': 30, 'Exp': 7}"
      ]
     },
     "execution_count": 30,
     "metadata": {},
     "output_type": "execute_result"
    }
   ],
   "source": [
    "#duplicated keys - keep just the last input\n",
    "employee={'Name':'Sham','Age':30,'Exp':7,'Name':'Mr Sham'}\n",
    "employee"
   ]
  },
  {
   "cell_type": "code",
   "execution_count": 34,
   "metadata": {},
   "outputs": [
    {
     "name": "stdout",
     "output_type": "stream",
     "text": [
      "{'brand': ['Honda', 'Renault', 'Hyundai', 'Mercedes'], 'Type': ['Sedan', 'SUV'], 'Year': 2022}\n"
     ]
    }
   ],
   "source": [
    "#different value type\n",
    "car={'brand':['Honda',\"Renault\",'Hyundai','Mercedes'],\n",
    "    'Type':['Sedan','SUV'],\n",
    "    'Year':2022}\n",
    "print(car)"
   ]
  },
  {
   "cell_type": "code",
   "execution_count": 35,
   "metadata": {},
   "outputs": [
    {
     "data": {
      "text/plain": [
       "dict_keys(['brand', 'Type', 'Year'])"
      ]
     },
     "execution_count": 35,
     "metadata": {},
     "output_type": "execute_result"
    }
   ],
   "source": [
    "#access elements\n",
    "car.keys()"
   ]
  },
  {
   "cell_type": "code",
   "execution_count": 36,
   "metadata": {},
   "outputs": [
    {
     "data": {
      "text/plain": [
       "dict_values([['Honda', 'Renault', 'Hyundai', 'Mercedes'], ['Sedan', 'SUV'], 2022])"
      ]
     },
     "execution_count": 36,
     "metadata": {},
     "output_type": "execute_result"
    }
   ],
   "source": [
    "car.values()"
   ]
  },
  {
   "cell_type": "code",
   "execution_count": 37,
   "metadata": {},
   "outputs": [
    {
     "data": {
      "text/plain": [
       "'SUV'"
      ]
     },
     "execution_count": 37,
     "metadata": {},
     "output_type": "execute_result"
    }
   ],
   "source": [
    "car['Type'][1]"
   ]
  },
  {
   "cell_type": "code",
   "execution_count": 38,
   "metadata": {},
   "outputs": [
    {
     "data": {
      "text/plain": [
       "dict_items([('brand', ['Honda', 'Renault', 'Hyundai', 'Mercedes']), ('Type', ['Sedan', 'SUV']), ('Year', 2022)])"
      ]
     },
     "execution_count": 38,
     "metadata": {},
     "output_type": "execute_result"
    }
   ],
   "source": [
    "#get all the items\n",
    "car.items()"
   ]
  },
  {
   "cell_type": "code",
   "execution_count": 39,
   "metadata": {},
   "outputs": [],
   "source": [
    "#Add items to dict\n",
    "# -if the key already exist, it will modify\n",
    "# -if not, it will add it"
   ]
  },
  {
   "cell_type": "code",
   "execution_count": 40,
   "metadata": {},
   "outputs": [
    {
     "data": {
      "text/plain": [
       "{'Name': 'Mr Sham', 'Age': 30, 'Exp': 7}"
      ]
     },
     "execution_count": 40,
     "metadata": {},
     "output_type": "execute_result"
    }
   ],
   "source": [
    "employee"
   ]
  },
  {
   "cell_type": "code",
   "execution_count": 41,
   "metadata": {},
   "outputs": [
    {
     "name": "stdout",
     "output_type": "stream",
     "text": [
      "After add {'Name': 'Mr Sham', 'Age': 30, 'Exp': 7, 'Org': 'Infosys'}\n"
     ]
    }
   ],
   "source": [
    "employee['Org']='Infosys'\n",
    "print('After add',employee)"
   ]
  },
  {
   "cell_type": "code",
   "execution_count": 42,
   "metadata": {},
   "outputs": [
    {
     "name": "stdout",
     "output_type": "stream",
     "text": [
      "After add {'Name': 'Mr Sham', 'Age': 35, 'Exp': 7, 'Org': 'Infosys'}\n"
     ]
    }
   ],
   "source": [
    "employee['Age']=35\n",
    "print('After add',employee)"
   ]
  },
  {
   "cell_type": "code",
   "execution_count": 43,
   "metadata": {},
   "outputs": [
    {
     "name": "stdout",
     "output_type": "stream",
     "text": [
      "{'Name': 'Mr Sham', 'Age': 35, 'Exp': 7.5, 'Org': 'Infosys', 'Clients': ['AB', 'XY', 'CD']}\n"
     ]
    }
   ],
   "source": [
    "# adding multiple key-value pair\n",
    "employee.update({'Clients':['AB','XY','CD'],'Exp':7.5})\n",
    "print(employee)"
   ]
  },
  {
   "cell_type": "code",
   "execution_count": 44,
   "metadata": {},
   "outputs": [
    {
     "data": {
      "text/plain": [
       "7.5"
      ]
     },
     "execution_count": 44,
     "metadata": {},
     "output_type": "execute_result"
    }
   ],
   "source": [
    "employee['Exp']"
   ]
  },
  {
   "cell_type": "code",
   "execution_count": 45,
   "metadata": {},
   "outputs": [
    {
     "name": "stdout",
     "output_type": "stream",
     "text": [
      "After Remove: {'Name': 'Mr Sham', 'Age': 35, 'Exp': 7.5, 'Org': 'Infosys'}\n"
     ]
    }
   ],
   "source": [
    "#removing elements using pop\n",
    "employee.pop('Clients')\n",
    "print('After Remove:',employee)"
   ]
  },
  {
   "cell_type": "code",
   "execution_count": 46,
   "metadata": {},
   "outputs": [
    {
     "data": {
      "text/plain": [
       "7.5"
      ]
     },
     "execution_count": 46,
     "metadata": {},
     "output_type": "execute_result"
    }
   ],
   "source": [
    "employee.pop('Exp')"
   ]
  },
  {
   "cell_type": "code",
   "execution_count": 47,
   "metadata": {},
   "outputs": [
    {
     "name": "stdout",
     "output_type": "stream",
     "text": [
      "('Org', 'Infosys')\n"
     ]
    }
   ],
   "source": [
    "print(employee.popitem())"
   ]
  },
  {
   "cell_type": "code",
   "execution_count": 48,
   "metadata": {},
   "outputs": [],
   "source": [
    "list=[10,40,50]"
   ]
  },
  {
   "cell_type": "code",
   "execution_count": 49,
   "metadata": {},
   "outputs": [],
   "source": [
    "list[1:1]=[20,30]"
   ]
  },
  {
   "cell_type": "code",
   "execution_count": 50,
   "metadata": {},
   "outputs": [
    {
     "data": {
      "text/plain": [
       "[10, 20, 30, 40, 50]"
      ]
     },
     "execution_count": 50,
     "metadata": {},
     "output_type": "execute_result"
    }
   ],
   "source": [
    "list"
   ]
  },
  {
   "cell_type": "markdown",
   "metadata": {},
   "source": [
    "#Brackets:\n",
    "1. [] - square brackets:\n",
    "    * create lists\n",
    "    * indexing\n",
    "2. () - parenthesis:\n",
    "    * create tuples\n",
    "    * functions/ to pass parameters\n",
    "3. {} - curly brackets:\n",
    "    * create dictionaries\n",
    "    * create sets"
   ]
  },
  {
   "cell_type": "markdown",
   "metadata": {},
   "source": [
    "## Conditional statements"
   ]
  },
  {
   "cell_type": "code",
   "execution_count": 52,
   "metadata": {},
   "outputs": [],
   "source": [
    "# #if/else\n",
    "# if expression:\n",
    "#     statement_1\n",
    "#     statement_2\n",
    "#     statement_3\n",
    "# else: #optional\n",
    "#     statement_1\n",
    "#     statement_2\n",
    "#     statement_3"
   ]
  },
  {
   "cell_type": "code",
   "execution_count": 53,
   "metadata": {},
   "outputs": [
    {
     "name": "stdout",
     "output_type": "stream",
     "text": [
      "Please enter number:23\n"
     ]
    }
   ],
   "source": [
    "#example - check if the number is even or odd\n",
    "#input from the user\n",
    "no=int(input('Please enter number:'))"
   ]
  },
  {
   "cell_type": "code",
   "execution_count": 54,
   "metadata": {},
   "outputs": [
    {
     "data": {
      "text/plain": [
       "int"
      ]
     },
     "execution_count": 54,
     "metadata": {},
     "output_type": "execute_result"
    }
   ],
   "source": [
    "type(no)"
   ]
  },
  {
   "cell_type": "code",
   "execution_count": 55,
   "metadata": {},
   "outputs": [
    {
     "name": "stdout",
     "output_type": "stream",
     "text": [
      "Odd number\n"
     ]
    }
   ],
   "source": [
    "if no%2==0:\n",
    "    print(\"Even number\")\n",
    "else:\n",
    "    print(\"Odd number\")"
   ]
  },
  {
   "cell_type": "code",
   "execution_count": 56,
   "metadata": {},
   "outputs": [
    {
     "name": "stdout",
     "output_type": "stream",
     "text": [
      "Odd number\n"
     ]
    }
   ],
   "source": [
    "if no%2==0:print(\"Even number\")\n",
    "else:print(\"Odd number\")"
   ]
  },
  {
   "cell_type": "markdown",
   "metadata": {},
   "source": [
    "Example 1 - Grades\n",
    "- 90&above --> A\n",
    "- 75-90 --> B\n",
    "- 55-75 --> C\n",
    "- 35-55 --> D\n",
    "- below 35 --> E\n",
    "#input should be from the user\n"
   ]
  },
  {
   "cell_type": "code",
   "execution_count": 57,
   "metadata": {},
   "outputs": [
    {
     "name": "stdout",
     "output_type": "stream",
     "text": [
      "Please enter marks : 76\n"
     ]
    },
    {
     "data": {
      "text/plain": [
       "'B'"
      ]
     },
     "execution_count": 57,
     "metadata": {},
     "output_type": "execute_result"
    }
   ],
   "source": [
    "marks = float(input('Please enter marks : '))\n",
    "if marks >=90 : grade = 'A'\n",
    "elif marks >=75 : grade = 'B'\n",
    "elif marks >= 55 : grade = 'C'\n",
    "elif marks >= 35 : grade ='D'\n",
    "else : grade = 'F'\n",
    "grade"
   ]
  },
  {
   "cell_type": "code",
   "execution_count": 59,
   "metadata": {},
   "outputs": [
    {
     "name": "stdout",
     "output_type": "stream",
     "text": [
      "Is the client a member? Y/N : Y\n",
      "Amount of the bill= 2783\n"
     ]
    },
    {
     "data": {
      "text/plain": [
       "0.25"
      ]
     },
     "execution_count": 59,
     "metadata": {},
     "output_type": "execute_result"
    }
   ],
   "source": [
    "#Example 2 - Discount\n",
    "#discount: if a client is a member and purchase is above 500: 25%\n",
    "#if not a member and purchase is above 1000: 20%\n",
    "#flat discount for others: 5%\n",
    "member=input(\"Is the client a member? Y/N : \")\n",
    "bill_amount=float(input(\"Amount of the bill= \"))\n",
    "if member=='Y' and bill_amount>=500:\n",
    "    disc=0.25\n",
    "elif member=='N' and bill_amount>=1000:\n",
    "    disc=0.2\n",
    "else:\n",
    "    disc=0.05\n",
    "disc"
   ]
  },
  {
   "cell_type": "code",
   "execution_count": 60,
   "metadata": {},
   "outputs": [],
   "source": [
    "countries=['Andorra','Australia','Austria','Belgium','Brunei','Chile','Croatia',\n",
    "'Czech Republic','Denmark','Estonia','Finland','France','Germany','Greece',\n",
    "'Hungary','Iceland', 'Ireland','Luxembourg','Malta','San Marino','Singapore',\n",
    "'Slovakia', 'Slovenia','South Korea','Spain','Sweden','Switzerland','Taiwan',\n",
    "'United Kingdom']"
   ]
  },
  {
   "cell_type": "code",
   "execution_count": 61,
   "metadata": {},
   "outputs": [
    {
     "name": "stdout",
     "output_type": "stream",
     "text": [
      "Do not require visa\n"
     ]
    }
   ],
   "source": [
    "country=\"France\"\n",
    "if country in countries:\n",
    "    print(\"Do not require visa\")\n",
    "else:\n",
    "    print('Not in the list')"
   ]
  },
  {
   "cell_type": "markdown",
   "metadata": {},
   "source": [
    "## Loops: iteration statements\n",
    "1. for loop: used for iterating over a sequence\n",
    "2. while loop: iteration based on condition"
   ]
  },
  {
   "cell_type": "code",
   "execution_count": 72,
   "metadata": {},
   "outputs": [],
   "source": [
    "#range - create a range of values and store them in the form of a collection\n",
    "#range(start_value,upper_bound_value)\n",
    "#upper_bound_value=envalue+1"
   ]
  },
  {
   "cell_type": "code",
   "execution_count": 73,
   "metadata": {},
   "outputs": [],
   "source": [
    "x = range(10,21,3)"
   ]
  },
  {
   "cell_type": "code",
   "execution_count": 74,
   "metadata": {},
   "outputs": [
    {
     "data": {
      "text/plain": [
       "range"
      ]
     },
     "execution_count": 74,
     "metadata": {},
     "output_type": "execute_result"
    }
   ],
   "source": [
    "type(range(10,21,3))"
   ]
  },
  {
   "cell_type": "code",
   "execution_count": 75,
   "metadata": {},
   "outputs": [
    {
     "name": "stdout",
     "output_type": "stream",
     "text": [
      "List of countries:\n",
      "Andorra\n",
      "Australia\n",
      "Austria\n",
      "Belgium\n",
      "Brunei\n",
      "Chile\n",
      "Croatia\n",
      "Czech Republic\n",
      "Denmark\n",
      "Estonia\n",
      "Finland\n",
      "France\n",
      "Germany\n",
      "Greece\n",
      "Hungary\n",
      "Iceland\n",
      "Ireland\n",
      "Luxembourg\n",
      "Malta\n",
      "San Marino\n",
      "Singapore\n",
      "Slovakia\n",
      "Slovenia\n",
      "South Korea\n",
      "Spain\n",
      "Sweden\n",
      "Switzerland\n",
      "Taiwan\n",
      "United Kingdom\n"
     ]
    }
   ],
   "source": [
    "#for example\n",
    "print('List of countries:')\n",
    "for country in countries:\n",
    "    print(country)"
   ]
  },
  {
   "cell_type": "code",
   "execution_count": 76,
   "metadata": {},
   "outputs": [
    {
     "name": "stdout",
     "output_type": "stream",
     "text": [
      "0\n",
      "1\n",
      "2\n",
      "3\n",
      "4\n",
      "5\n"
     ]
    }
   ],
   "source": [
    "# for example - using range\n",
    "#default step=1\n",
    "#default start_value=0\n",
    "for x in range(6):\n",
    "    print(x)"
   ]
  },
  {
   "cell_type": "code",
   "execution_count": 77,
   "metadata": {},
   "outputs": [
    {
     "name": "stdout",
     "output_type": "stream",
     "text": [
      "Andorra\n",
      "Australia\n",
      "Austria\n",
      "Belgium\n",
      "Brunei\n",
      "Chile\n",
      "Croatia\n",
      "Czech Republic\n",
      "Denmark\n",
      "Estonia\n",
      "Finland\n",
      "France\n",
      "Germany\n"
     ]
    }
   ],
   "source": [
    "# break,continue\n",
    "#break- we can stop the loop before it has looped through all the elements\n",
    "for country in countries:\n",
    "    print(country)\n",
    "    if country=='Germany':\n",
    "        break"
   ]
  },
  {
   "cell_type": "code",
   "execution_count": 78,
   "metadata": {},
   "outputs": [
    {
     "name": "stdout",
     "output_type": "stream",
     "text": [
      "Andorra\n",
      "Australia\n",
      "Austria\n",
      "Belgium\n",
      "Brunei\n",
      "Chile\n",
      "Croatia\n",
      "Czech Republic\n",
      "Denmark\n",
      "Estonia\n",
      "Finland\n",
      "France\n"
     ]
    }
   ],
   "source": [
    "for country in countries:\n",
    "    if country=='Germany':\n",
    "        break\n",
    "    print(country)"
   ]
  },
  {
   "cell_type": "code",
   "execution_count": 79,
   "metadata": {},
   "outputs": [
    {
     "name": "stdout",
     "output_type": "stream",
     "text": [
      "Andorra\n",
      "Australia\n",
      "Austria\n",
      "Belgium\n",
      "Brunei\n",
      "Chile\n",
      "Croatia\n",
      "Czech Republic\n",
      "Denmark\n",
      "Estonia\n",
      "Finland\n",
      "France\n",
      "Greece\n",
      "Hungary\n",
      "Iceland\n",
      "Ireland\n",
      "Luxembourg\n",
      "Malta\n",
      "San Marino\n",
      "Singapore\n",
      "Slovakia\n",
      "Slovenia\n",
      "South Korea\n",
      "Spain\n",
      "Sweden\n",
      "Switzerland\n",
      "Taiwan\n",
      "United Kingdom\n"
     ]
    }
   ],
   "source": [
    "#continue - we can stop the current iteration of the loop and continue with the next\n",
    "for country in countries:\n",
    "    if country=='Germany':\n",
    "        continue\n",
    "    print(country)"
   ]
  },
  {
   "cell_type": "code",
   "execution_count": 81,
   "metadata": {},
   "outputs": [],
   "source": [
    "salaryList=[1000,2000,3000,4000,5000]\n",
    "# #Increase the salary based on the following conditions:\n",
    "# - if income <2000 --> hike 20%\n",
    "# - if income is between 2000 and 4000 --> hike 10%\n",
    "# - if income is greater than 4000 --> No hike"
   ]
  },
  {
   "cell_type": "code",
   "execution_count": 82,
   "metadata": {},
   "outputs": [
    {
     "data": {
      "text/plain": [
       "[1200.0, 2200.0, 3300.0, 4400.0, 5000]"
      ]
     },
     "execution_count": 82,
     "metadata": {},
     "output_type": "execute_result"
    }
   ],
   "source": [
    "i=0\n",
    "for sal in salaryList:\n",
    "    if sal<2000:\n",
    "        salaryList[i]=round(sal*1.2,1)\n",
    "    elif sal<=4000:\n",
    "        salaryList[i]=round(sal*1.1,1)\n",
    "    else:\n",
    "        salaryList[i]=round(sal,1)\n",
    "    i=i+1\n",
    "salaryList"
   ]
  },
  {
   "cell_type": "code",
   "execution_count": 84,
   "metadata": {},
   "outputs": [],
   "source": [
    "#print the tables of 2,3 &4\n",
    "# table of 2 - print it till 4 -2*2\n",
    "#table of 3 - print it till 6 - 3*2\n",
    "#table of 4 - print it till 8 - 4*2"
   ]
  },
  {
   "cell_type": "code",
   "execution_count": 85,
   "metadata": {},
   "outputs": [
    {
     "name": "stdout",
     "output_type": "stream",
     "text": [
      "\n",
      "Table of 2\n",
      "\n",
      "2 X 1=2\n",
      "2 X 2=4\n",
      "2 X 3=6\n",
      "2 X 4=8\n",
      "---------------------\n",
      "\n",
      "Table of 3\n",
      "\n",
      "3 X 1=3\n",
      "3 X 2=6\n",
      "3 X 3=9\n",
      "3 X 4=12\n",
      "3 X 5=15\n",
      "3 X 6=18\n",
      "---------------------\n",
      "\n",
      "Table of 4\n",
      "\n",
      "4 X 1=4\n",
      "4 X 2=8\n",
      "4 X 3=12\n",
      "4 X 4=16\n",
      "4 X 5=20\n",
      "4 X 6=24\n",
      "4 X 7=28\n",
      "4 X 8=32\n",
      "---------------------\n"
     ]
    }
   ],
   "source": [
    "for j in range(2,5):\n",
    "    print('\\nTable of {}\\n'.format(j))\n",
    "    for i in range(1,11):\n",
    "        if i==(j*2)+1:\n",
    "            break\n",
    "        print('{} X {}={}'.format(j,i,j*i))\n",
    "    print('---------------------')"
   ]
  },
  {
   "cell_type": "code",
   "execution_count": 86,
   "metadata": {},
   "outputs": [
    {
     "name": "stdout",
     "output_type": "stream",
     "text": [
      "Andorra\n",
      "Australia\n",
      "Austria\n",
      "Belgium\n",
      "Brunei\n",
      "Chile\n",
      "Croatia\n",
      "Czech Republic\n",
      "Denmark\n",
      "Estonia\n",
      "Finland\n",
      "France\n",
      "Germany\n",
      "Greece\n",
      "Hungary\n",
      "Iceland\n",
      "Ireland\n",
      "Luxembourg\n",
      "Malta\n",
      "San Marino\n",
      "Singapore\n",
      "Slovakia\n",
      "Slovenia\n",
      "South Korea\n",
      "Spain\n",
      "Sweden\n",
      "Switzerland\n",
      "Taiwan\n",
      "United Kingdom\n"
     ]
    }
   ],
   "source": [
    "#while\n",
    "count=0\n",
    "while count<len(countries):\n",
    "    print(countries[count])\n",
    "    count+=1 #count=count+1"
   ]
  },
  {
   "cell_type": "code",
   "execution_count": 88,
   "metadata": {},
   "outputs": [
    {
     "name": "stdout",
     "output_type": "stream",
     "text": [
      "Andorra\n",
      "Australia\n",
      "Austria\n"
     ]
    },
    {
     "data": {
      "text/plain": [
       "2"
      ]
     },
     "execution_count": 88,
     "metadata": {},
     "output_type": "execute_result"
    }
   ],
   "source": [
    "#break-while\n",
    "count=0\n",
    "while count<len(countries):\n",
    "    print(countries[count])\n",
    "    if countries[count]=='Austria':\n",
    "        break\n",
    "    count+=1 #count=count+1\n",
    "count"
   ]
  },
  {
   "cell_type": "code",
   "execution_count": 89,
   "metadata": {},
   "outputs": [
    {
     "name": "stdout",
     "output_type": "stream",
     "text": [
      "1\n",
      "2\n",
      "4\n",
      "5\n"
     ]
    }
   ],
   "source": [
    "i=0\n",
    "while i<5:\n",
    "    i+=1\n",
    "    if i==3:\n",
    "        continue\n",
    "    print(i)"
   ]
  },
  {
   "cell_type": "markdown",
   "metadata": {},
   "source": [
    "## User defined functions:\n",
    "### you can create your own functions\n",
    "1. function that can print values\n",
    "2. function that can return values\n"
   ]
  },
  {
   "cell_type": "code",
   "execution_count": 90,
   "metadata": {},
   "outputs": [],
   "source": [
    "# #syntax to create:\n",
    "# def function_name(parameters):\n",
    "#     statement1\n",
    "#     statement2\n",
    "# #def is the keyword\n",
    "\n",
    "# #syntax to call the function:\n",
    "# function_name(arguments)"
   ]
  },
  {
   "cell_type": "code",
   "execution_count": 91,
   "metadata": {},
   "outputs": [],
   "source": [
    "# 1. function that can print:\n",
    "def greetMe(x):\n",
    "    print(\"Welcome to the course,\",x,'!')"
   ]
  },
  {
   "cell_type": "code",
   "execution_count": 92,
   "metadata": {},
   "outputs": [
    {
     "name": "stdout",
     "output_type": "stream",
     "text": [
      "Welcome to the course, Harry !\n"
     ]
    }
   ],
   "source": [
    "greetMe('Harry')"
   ]
  },
  {
   "cell_type": "code",
   "execution_count": 93,
   "metadata": {},
   "outputs": [],
   "source": [
    "#2. function that can return values:\n",
    "def myAdd(num1,num2):\n",
    "    return num1+num2"
   ]
  },
  {
   "cell_type": "code",
   "execution_count": 94,
   "metadata": {},
   "outputs": [
    {
     "data": {
      "text/plain": [
       "7"
      ]
     },
     "execution_count": 94,
     "metadata": {},
     "output_type": "execute_result"
    }
   ],
   "source": [
    "myAdd(3,4)"
   ]
  },
  {
   "cell_type": "code",
   "execution_count": 96,
   "metadata": {},
   "outputs": [],
   "source": [
    "result=myAdd('Michael','Garcia')"
   ]
  },
  {
   "cell_type": "code",
   "execution_count": 97,
   "metadata": {},
   "outputs": [
    {
     "data": {
      "text/plain": [
       "'Michael Garcia'"
      ]
     },
     "execution_count": 97,
     "metadata": {},
     "output_type": "execute_result"
    }
   ],
   "source": [
    "result[0:7]+' '+result[7:]"
   ]
  }
 ],
 "metadata": {
  "kernelspec": {
   "display_name": "Python 3 (ipykernel)",
   "language": "python",
   "name": "python3"
  },
  "language_info": {
   "codemirror_mode": {
    "name": "ipython",
    "version": 3
   },
   "file_extension": ".py",
   "mimetype": "text/x-python",
   "name": "python",
   "nbconvert_exporter": "python",
   "pygments_lexer": "ipython3",
   "version": "3.9.11"
  }
 },
 "nbformat": 4,
 "nbformat_minor": 4
}
